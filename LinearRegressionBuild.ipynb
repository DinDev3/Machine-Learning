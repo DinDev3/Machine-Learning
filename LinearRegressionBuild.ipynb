{
  "nbformat": 4,
  "nbformat_minor": 0,
  "metadata": {
    "colab": {
      "name": "LinearRegressionBuild.ipynb",
      "provenance": [],
      "authorship_tag": "ABX9TyOXQdrzkYPFVeTxeX4/VBjH",
      "include_colab_link": true
    },
    "kernelspec": {
      "name": "python3",
      "display_name": "Python 3"
    }
  },
  "cells": [
    {
      "cell_type": "markdown",
      "metadata": {
        "id": "view-in-github",
        "colab_type": "text"
      },
      "source": [
        "<a href=\"https://colab.research.google.com/github/DinDev3/Python-Machine-Learning/blob/master/LinearRegressionBuild.ipynb\" target=\"_parent\"><img src=\"https://colab.research.google.com/assets/colab-badge.svg\" alt=\"Open In Colab\"/></a>"
      ]
    },
    {
      "cell_type": "markdown",
      "metadata": {
        "id": "UMSyfN88n_YS",
        "colab_type": "text"
      },
      "source": [
        "# Creating a Linear Regression model from scratch\n"
      ]
    },
    {
      "cell_type": "code",
      "metadata": {
        "id": "pb9YGRs1oXcC",
        "colab_type": "code",
        "colab": {}
      },
      "source": [
        "from statistics import mean\n",
        "import numpy as np\n",
        "import matplotlib.pyplot as plt\n",
        "rom matplotllib import style\n",
        "\n",
        "style.use('fivethirtyeight')"
      ],
      "execution_count": 1,
      "outputs": []
    },
    {
      "cell_type": "code",
      "metadata": {
        "id": "e3ILB_J_oo-0",
        "colab_type": "code",
        "colab": {
          "base_uri": "https://localhost:8080/",
          "height": 265
        },
        "outputId": "bde8c3b5-0bcf-4042-c14e-600dbaff8a75"
      },
      "source": [
        "xs = np.array([1,2,3,4,5,6], dtype=np.float64)   # datatype is float64 by default. Not exactly necessary for this usecase\n",
        "ys = np.array([5,4,6,5,6,7], dtype=np.float64) \n",
        "\n",
        "# visualizing data\n",
        "plt.plot(xs, ys)      # plot a line\n",
        "plt.show()"
      ],
      "execution_count": 5,
      "outputs": [
        {
          "output_type": "display_data",
          "data": {
            "image/png": "[encoded data removed]",
            "text/plain": [
              "<Figure size 432x288 with 1 Axes>"
            ]
          },
          "metadata": {
            "tags": [],
            "needs_background": "light"
          }
        }
      ]
    },
    {
      "cell_type": "code",
      "metadata": {
        "id": "Dvd5KGjUo68F",
        "colab_type": "code",
        "colab": {
          "base_uri": "https://localhost:8080/",
          "height": 265
        },
        "outputId": "384e1ce0-7286-4c01-9d4f-a02436cd5401"
      },
      "source": [
        "plt.scatter(xs, ys)     # scattered points\n",
        "plt.show()"
      ],
      "execution_count": 6,
      "outputs": [
        {
          "output_type": "display_data",
          "data": {
            "image/png": "[encoded data removed]",
            "text/plain": [
              "<Figure size 432x288 with 1 Axes>"
            ]
          },
          "metadata": {
            "tags": [],
            "needs_background": "light"
          }
        }
      ]
    },
    {
      "cell_type": "markdown",
      "metadata": {
        "id": "6lWH1-IVuGv0",
        "colab_type": "text"
      },
      "source": [
        "### Calculating the Best Fit Line & the Intercept"
      ]
    },
    {
      "cell_type": "code",
      "metadata": {
        "id": "4j-sZN8SpI2X",
        "colab_type": "code",
        "colab": {
          "base_uri": "https://localhost:8080/",
          "height": 52
        },
        "outputId": "63a5bf62-0151-497f-a975-184b129980b6"
      },
      "source": [
        "def best_fit_slope_and_intercept(xs, ys):\n",
        "  # Calculating the best fit line's slope\n",
        "  m = ( ((mean(xs)*mean(ys)) - mean(xs*ys)) /\n",
        "      ((mean(xs)*mean(xs)) - mean(xs**2)) )\n",
        "  \n",
        "  # calculating the intercept of the equation\n",
        "  b = mean(ys) - m*mean(xs)\n",
        "\n",
        "  return m, b\n",
        "\n",
        "m,b = best_fit_slope_and_intercept(xs, ys)\n",
        "\n",
        "print(\"Best fit slope:\",m)\n",
        "print(\"Intercept:\",b)"
      ],
      "execution_count": 12,
      "outputs": [
        {
          "output_type": "stream",
          "text": [
            "Best fit slope: 0.42857142857142866\n",
            "Intercept: 4.0\n"
          ],
          "name": "stdout"
        }
      ]
    },
    {
      "cell_type": "markdown",
      "metadata": {
        "id": "pzc-Ie4bvV7a",
        "colab_type": "text"
      },
      "source": [
        "*Displaying the regression line that has been created by the equation*"
      ]
    },
    {
      "cell_type": "code",
      "metadata": {
        "id": "ipf-SS-8uuGt",
        "colab_type": "code",
        "colab": {
          "base_uri": "https://localhost:8080/",
          "height": 265
        },
        "outputId": "a45cf9de-1d2a-49fd-bcb4-2e5a795b882d"
      },
      "source": [
        "# taking all the known ys into an array\n",
        "# for x in xs:\n",
        "#   regression_line.append((m*x) + b)\n",
        "\n",
        "regression_line = [(m*x) + b for x in xs]\n",
        "\n",
        "plt.scatter(xs, ys)\n",
        "plt.plot(xs, regression_line)\n",
        "plt.show()"
      ],
      "execution_count": 13,
      "outputs": [
        {
          "output_type": "display_data",
          "data": {
            "image/png": "[encoded data removed]",
            "text/plain": [
              "<Figure size 432x288 with 1 Axes>"
            ]
          },
          "metadata": {
            "tags": [],
            "needs_background": "light"
          }
        }
      ]
    },
    {
      "cell_type": "markdown",
      "metadata": {
        "id": "H1SytzQwwCel",
        "colab_type": "text"
      },
      "source": [
        "### Predicting"
      ]
    },
    {
      "cell_type": "code",
      "metadata": {
        "id": "EA3FDkkiwDcZ",
        "colab_type": "code",
        "colab": {
          "base_uri": "https://localhost:8080/",
          "height": 265
        },
        "outputId": "a72677df-3595-4de0-aaab-2efffb2bbe90"
      },
      "source": [
        "predict_x = 8\n",
        "predict_y = (m*predict_x) + b\n",
        "\n",
        "plt.scatter(xs, ys)\n",
        "plt.plot(xs, regression_line)\n",
        "plt.scatter(predict_x,predict_y)    #  color='g'can be used to mark this point in green\n",
        "plt.show()"
      ],
      "execution_count": 21,
      "outputs": [
        {
          "output_type": "display_data",
          "data": {
            "image/png": "[encoded data removed]",
            "text/plain": [
              "<Figure size 432x288 with 1 Axes>"
            ]
          },
          "metadata": {
            "tags": [],
            "needs_background": "light"
          }
        }
      ]
    }
  ]
}