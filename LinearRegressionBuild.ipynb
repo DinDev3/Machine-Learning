{
  "nbformat": 4,
  "nbformat_minor": 0,
  "metadata": {
    "colab": {
      "name": "LinearRegressionBuild.ipynb",
      "provenance": [],
      "authorship_tag": "ABX9TyM33ahbcZe96kfeChzOzvtK",
      "include_colab_link": true
    },
    "kernelspec": {
      "name": "python3",
      "display_name": "Python 3"
    }
  },
  "cells": [
    {
      "cell_type": "markdown",
      "metadata": {
        "id": "view-in-github",
        "colab_type": "text"
      },
      "source": [
        "<a href=\"https://colab.research.google.com/github/DinDev3/Python-Machine-Learning/blob/master/LinearRegressionBuild.ipynb\" target=\"_parent\"><img src=\"https://colab.research.google.com/assets/colab-badge.svg\" alt=\"Open In Colab\"/></a>"
      ]
    },
    {
      "cell_type": "markdown",
      "metadata": {
        "id": "UMSyfN88n_YS",
        "colab_type": "text"
      },
      "source": [
        "# Creating a Linear Regression model from scratch\n"
      ]
    },
    {
      "cell_type": "code",
      "metadata": {
        "id": "pb9YGRs1oXcC",
        "colab_type": "code",
        "colab": {}
      },
      "source": [
        "from statistics import mean\n",
        "import numpy as np\n",
        "import matplotlib.pyplot as plt"
      ],
      "execution_count": 1,
      "outputs": []
    },
    {
      "cell_type": "code",
      "metadata": {
        "id": "e3ILB_J_oo-0",
        "colab_type": "code",
        "colab": {
          "base_uri": "https://localhost:8080/",
          "height": 265
        },
        "outputId": "bde8c3b5-0bcf-4042-c14e-600dbaff8a75"
      },
      "source": [
        "xs = np.array([1,2,3,4,5,6], dtype=np.float64)   # datatype is float64 by default. Not exactly necessary for this usecase\n",
        "ys = np.array([5,4,6,5,6,7], dtype=np.float64) \n",
        "\n",
        "# visualizing data\n",
        "plt.plot(xs, ys)      # plot a line\n",
        "plt.show()"
      ],
      "execution_count": 5,
      "outputs": [
        {
          "output_type": "display_data",
          "data": {
            "image/png": "[encoded data removed]",
            "text/plain": [
              "<Figure size 432x288 with 1 Axes>"
            ]
          },
          "metadata": {
            "tags": [],
            "needs_background": "light"
          }
        }
      ]
    },
    {
      "cell_type": "code",
      "metadata": {
        "id": "Dvd5KGjUo68F",
        "colab_type": "code",
        "colab": {
          "base_uri": "https://localhost:8080/",
          "height": 265
        },
        "outputId": "384e1ce0-7286-4c01-9d4f-a02436cd5401"
      },
      "source": [
        "plt.scatter(xs, ys)     # scattered points\n",
        "plt.show()"
      ],
      "execution_count": 6,
      "outputs": [
        {
          "output_type": "display_data",
          "data": {
            "image/png": "[encoded data removed]",
            "text/plain": [
              "<Figure size 432x288 with 1 Axes>"
            ]
          },
          "metadata": {
            "tags": [],
            "needs_background": "light"
          }
        }
      ]
    },
    {
      "cell_type": "code",
      "metadata": {
        "id": "4j-sZN8SpI2X",
        "colab_type": "code",
        "colab": {
          "base_uri": "https://localhost:8080/",
          "height": 34
        },
        "outputId": "43f90181-348a-497a-f544-e084c9749bba"
      },
      "source": [
        "# calculating the best fit slope\n",
        "def best_fit_slope(xs, ys):\n",
        "  m = ( ((mean(xs)*mean(ys)) - mean(xs*ys)) /\n",
        "      ((mean(xs)*mean(xs)) - mean(xs**2)) )\n",
        "  return m\n",
        "\n",
        "m = best_fit_slope(xs, ys)\n",
        "\n",
        "print(\"Best fit slope:\",m)"
      ],
      "execution_count": 11,
      "outputs": [
        {
          "output_type": "stream",
          "text": [
            "Best fit slope: 0.42857142857142866\n"
          ],
          "name": "stdout"
        }
      ]
    }
  ]
}