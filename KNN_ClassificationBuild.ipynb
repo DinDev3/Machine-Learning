{
  "nbformat": 4,
  "nbformat_minor": 0,
  "metadata": {
    "colab": {
      "name": "KNN-ClassificationBuild.ipynb",
      "provenance": [],
      "authorship_tag": "ABX9TyMn5Ea3AZxUPRIXyOO63SiI",
      "include_colab_link": true
    },
    "kernelspec": {
      "name": "python3",
      "display_name": "Python 3"
    }
  },
  "cells": [
    {
      "cell_type": "markdown",
      "metadata": {
        "id": "view-in-github",
        "colab_type": "text"
      },
      "source": [
        "<a href=\"https://colab.research.google.com/github/dinuka-rp/Python-Machine-Learning/blob/master/KNN_ClassificationBuild.ipynb\" target=\"_parent\"><img src=\"https://colab.research.google.com/assets/colab-badge.svg\" alt=\"Open In Colab\"/></a>"
      ]
    },
    {
      "cell_type": "markdown",
      "metadata": {
        "id": "WH82hPhU7R4H",
        "colab_type": "text"
      },
      "source": [
        "# Creating a K Nearest Neighbor Classifier from scratch"
      ]
    },
    {
      "cell_type": "markdown",
      "metadata": {
        "id": "5qZXqdO_QSUo",
        "colab_type": "text"
      },
      "source": [
        "Calculating Euclidean Distance"
      ]
    },
    {
      "cell_type": "code",
      "metadata": {
        "id": "0Mmzo10w69zm",
        "colab_type": "code",
        "colab": {}
      },
      "source": [
        "from math import sqrt"
      ],
      "execution_count": 1,
      "outputs": []
    },
    {
      "cell_type": "code",
      "metadata": {
        "id": "KYJZh2_pQPOn",
        "colab_type": "code",
        "colab": {
          "base_uri": "https://localhost:8080/",
          "height": 34
        },
        "outputId": "6cfce306-c78c-470e-c880-3c2b34b9280a"
      },
      "source": [
        "plot1 = [1,3]   # 2 dimentional data point\n",
        "plot2 = [2,5]\n",
        "\n",
        "euclidean_distance = sqrt( (plot1[0] - plot2[0])**2 + (plot1[1] - plot2[1])**2 )\n",
        "\n",
        "print(\"Euclidean Distance:\",euclidean_distance)"
      ],
      "execution_count": 5,
      "outputs": [
        {
          "output_type": "stream",
          "text": [
            "Euclidean Distance: 2.23606797749979\n"
          ],
          "name": "stdout"
        }
      ]
    }
  ]
}