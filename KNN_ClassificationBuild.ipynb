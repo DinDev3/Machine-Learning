{
  "nbformat": 4,
  "nbformat_minor": 0,
  "metadata": {
    "colab": {
      "name": "KNN-ClassificationBuild.ipynb",
      "provenance": [],
      "collapsed_sections": [],
      "authorship_tag": "ABX9TyPAQqz2ykFdNqQevs9CYCAA",
      "include_colab_link": true
    },
    "kernelspec": {
      "name": "python3",
      "display_name": "Python 3"
    }
  },
  "cells": [
    {
      "cell_type": "markdown",
      "metadata": {
        "id": "view-in-github",
        "colab_type": "text"
      },
      "source": [
        "<a href=\"https://colab.research.google.com/github/dinuka-rp/Python-Machine-Learning/blob/master/KNN_ClassificationBuild.ipynb\" target=\"_parent\"><img src=\"https://colab.research.google.com/assets/colab-badge.svg\" alt=\"Open In Colab\"/></a>"
      ]
    },
    {
      "cell_type": "markdown",
      "metadata": {
        "id": "WH82hPhU7R4H",
        "colab_type": "text"
      },
      "source": [
        "# Creating a K Nearest Neighbor Classifier from scratch"
      ]
    },
    {
      "cell_type": "markdown",
      "metadata": {
        "id": "5qZXqdO_QSUo",
        "colab_type": "text"
      },
      "source": [
        "### Calculating Euclidean Distance"
      ]
    },
    {
      "cell_type": "code",
      "metadata": {
        "id": "0Mmzo10w69zm",
        "colab_type": "code",
        "colab": {}
      },
      "source": [
        "import numpy as np\n",
        "from math import sqrt\n",
        "import matplotlib.pyplot as plt\n",
        "from matplotlib import style\n",
        "import warnings\n",
        "from collections import Counter\n",
        "\n",
        "style.use('fivethirtyeight')"
      ],
      "execution_count": 15,
      "outputs": []
    },
    {
      "cell_type": "code",
      "metadata": {
        "id": "KYJZh2_pQPOn",
        "colab_type": "code",
        "colab": {
          "base_uri": "https://localhost:8080/",
          "height": 34
        },
        "outputId": "6cfce306-c78c-470e-c880-3c2b34b9280a"
      },
      "source": [
        "# plot1 = [1,3]   # 2 dimentional data point\n",
        "# plot2 = [2,5]\n",
        "\n",
        "# euclidean_distance = sqrt( (plot1[0] - plot2[0])**2 + (plot1[1] - plot2[1])**2 )\n",
        "\n",
        "# print(\"Euclidean Distance:\",euclidean_distance)"
      ],
      "execution_count": 5,
      "outputs": [
        {
          "output_type": "stream",
          "text": [
            "Euclidean Distance: 2.23606797749979\n"
          ],
          "name": "stdout"
        }
      ]
    },
    {
      "cell_type": "markdown",
      "metadata": {
        "id": "HMoVPmMVlI_p",
        "colab_type": "text"
      },
      "source": [
        "### Plotting the dataset and the point to be predicted"
      ]
    },
    {
      "cell_type": "code",
      "metadata": {
        "id": "cvsI7brwSDlf",
        "colab_type": "code",
        "colab": {
          "base_uri": "https://localhost:8080/",
          "height": 282
        },
        "outputId": "41a6d48d-eddf-42f0-8165-e96990339ced"
      },
      "source": [
        "# features of each class in the dataset (features of label k, etc.)\n",
        "dataset = {\n",
        "    \"k\":[[1,2],[2,3],[3,1]],\n",
        "    \"r\":[[6,5],[7,7],[8,6]]\n",
        "    }\n",
        "# print(dataset)\n",
        "\n",
        "new_features = [5,7]\n",
        "\n",
        "# plotting existing datapoints in the dataset\n",
        "# for i in dataset:   # each label\n",
        "#   for ii in dataset[i]:    # each feature of a label\n",
        "#     plt.scatter(ii[0], ii[1], s=100, color=i)\n",
        "\n",
        "# one liner form of above loop ^\n",
        "[[plt.scatter(ii[0], ii[1], s=100, color=i) for ii in dataset[i]] for i in dataset]\n",
        "\n",
        "# plotting the new feature\n",
        "plt.scatter(new_features[0], new_features[1])\n",
        "\n",
        "plt.show()"
      ],
      "execution_count": 30,
      "outputs": [
        {
          "output_type": "display_data",
          "data": {
            "image/png": "[encoded data removed]",
            "text/plain": [
              "<Figure size 432x288 with 1 Axes>"
            ]
          },
          "metadata": {
            "tags": []
          }
        }
      ]
    },
    {
      "cell_type": "markdown",
      "metadata": {
        "id": "f9r_LmgplVJA",
        "colab_type": "text"
      },
      "source": [
        "### Calculating Euclidean distances and predicting using KNN"
      ]
    },
    {
      "cell_type": "code",
      "metadata": {
        "id": "CB2X8kLtghl2",
        "colab_type": "code",
        "colab": {}
      },
      "source": [
        "def k_nearest_neighbours(data, predict, k=3):\n",
        "  if len(data) >= k:\n",
        "    warnings.warn(\"k is set to a value less than the total voting groups\")\n",
        "    \n",
        "  distances = []\n",
        "\n",
        "  for group in data:\n",
        "    for features in data[group]:\n",
        "      euclidean_distance = np.linalg.norm(np.array(features)- np.array(predict))\n",
        "      distances.append([euclidean_distance, group])\n",
        "\n",
        "  # getting the groups of the top 3(k) distances (sorting is done in ascending order)\n",
        "  votes = [i[1] for i in sorted(distances)[:k]]\n",
        "\n",
        "  print(Counter(votes).most_common(1))\n",
        "  vote_result = Counter(votes).most_common(1)[0][0]\n",
        "\n",
        "  return vote_result"
      ],
      "execution_count": 31,
      "outputs": []
    },
    {
      "cell_type": "code",
      "metadata": {
        "id": "ERPNGc53kod-",
        "colab_type": "code",
        "colab": {
          "base_uri": "https://localhost:8080/",
          "height": 52
        },
        "outputId": "0ce43cb8-2ab6-4ca0-e15f-e8d639ddffac"
      },
      "source": [
        "result = k_nearest_neighbours(dataset, new_features, k=3)\n",
        "print(\"Predicted group that the result belongs to:\",result)"
      ],
      "execution_count": 33,
      "outputs": [
        {
          "output_type": "stream",
          "text": [
            "[('r', 3)]\n",
            "Predicted group that the result belongs to: r\n"
          ],
          "name": "stdout"
        }
      ]
    },
    {
      "cell_type": "code",
      "metadata": {
        "id": "8QX45q4Vmcxb",
        "colab_type": "code",
        "colab": {
          "base_uri": "https://localhost:8080/",
          "height": 282
        },
        "outputId": "526822ec-c1a8-4514-a4bf-02ecec897021"
      },
      "source": [
        "[[plt.scatter(ii[0], ii[1], s=100, color=i) for ii in dataset[i]] for i in dataset]\n",
        "# plotting the new feature\n",
        "plt.scatter(new_features[0], new_features[1], color=result)\n",
        "plt.show()"
      ],
      "execution_count": 32,
      "outputs": [
        {
          "output_type": "display_data",
          "data": {
            "image/png": "[encoded data removed]",
            "text/plain": [
              "<Figure size 432x288 with 1 Axes>"
            ]
          },
          "metadata": {
            "tags": []
          }
        }
      ]
    }
  ]
}