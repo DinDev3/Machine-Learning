{
  "nbformat": 4,
  "nbformat_minor": 0,
  "metadata": {
    "colab": {
      "name": "Regression.ipynb",
      "provenance": [],
      "toc_visible": true,
      "mount_file_id": "10XZ1-wTAQYBcS96bZ7nhqJcCd-zhUSlD",
      "authorship_tag": "ABX9TyNitd87k4eJKirQQTBbY9NJ",
      "include_colab_link": true
    },
    "kernelspec": {
      "name": "python3",
      "display_name": "Python 3"
    }
  },
  "cells": [
    {
      "cell_type": "markdown",
      "metadata": {
        "id": "view-in-github",
        "colab_type": "text"
      },
      "source": [
        "<a href=\"https://colab.research.google.com/github/DinDev3/Python-Machine-Learning/blob/master/Machine-Learning-with-Python/Regression.ipynb\" target=\"_parent\"><img src=\"https://colab.research.google.com/assets/colab-badge.svg\" alt=\"Open In Colab\"/></a>"
      ]
    },
    {
      "cell_type": "markdown",
      "metadata": {
        "id": "IxUi0qvmHtRT",
        "colab_type": "text"
      },
      "source": [
        "# Linear Regression\n",
        "\n",
        "Install packages\n",
        "- pip install sklearn\n",
        "- pip install pandas\n",
        "- pip install quandl\n",
        "\n",
        "---\n",
        "Stock Prices\n"
      ]
    },
    {
      "cell_type": "code",
      "metadata": {
        "id": "CxsCDg8kWsaB",
        "colab_type": "code",
        "colab": {
          "base_uri": "https://localhost:8080/",
          "height": 125
        },
        "outputId": "15a7c71d-01af-49d6-9006-0fbeaa0bc0e9"
      },
      "source": [
        "from google.colab import drive\n",
        "drive.mount('/content/gdrive')"
      ],
      "execution_count": 1,
      "outputs": [
        {
          "output_type": "stream",
          "text": [
            "Go to this URL in a browser: https://accounts.google.com/o/oauth2/auth?client_id=947318989803-6bn6qk8qdgf4n4g3pfee6491hc0brc4i.apps.googleusercontent.com&redirect_uri=urn%3aietf%3awg%3aoauth%3a2.0%3aoob&response_type=code&scope=email%20https%3a%2f%2fwww.googleapis.com%2fauth%2fdocs.test%20https%3a%2f%2fwww.googleapis.com%2fauth%2fdrive%20https%3a%2f%2fwww.googleapis.com%2fauth%2fdrive.photos.readonly%20https%3a%2f%2fwww.googleapis.com%2fauth%2fpeopleapi.readonly\n",
            "\n",
            "Enter your authorization code:\n",
            "··········\n",
            "Mounted at /content/gdrive\n"
          ],
          "name": "stdout"
        }
      ]
    },
    {
      "cell_type": "code",
      "metadata": {
        "id": "eVVxqio5JMge",
        "colab_type": "code",
        "colab": {
          "base_uri": "https://localhost:8080/",
          "height": 512
        },
        "outputId": "9cac1da6-7319-4a12-b78a-6c2e381b9175"
      },
      "source": [
        "# !pip --version\n",
        "# !pip install --upgrade pip\n",
        "!pip install sklearn\n",
        "!pip install pandas\n",
        "!pip install quandl"
      ],
      "execution_count": 2,
      "outputs": [
        {
          "output_type": "stream",
          "text": [
            "Requirement already satisfied: sklearn in /usr/local/lib/python3.6/dist-packages (0.0)\n",
            "Requirement already satisfied: scikit-learn in /usr/local/lib/python3.6/dist-packages (from sklearn) (0.22.2.post1)\n",
            "Requirement already satisfied: numpy>=1.11.0 in /usr/local/lib/python3.6/dist-packages (from scikit-learn->sklearn) (1.18.5)\n",
            "Requirement already satisfied: scipy>=0.17.0 in /usr/local/lib/python3.6/dist-packages (from scikit-learn->sklearn) (1.4.1)\n",
            "Requirement already satisfied: joblib>=0.11 in /usr/local/lib/python3.6/dist-packages (from scikit-learn->sklearn) (0.15.1)\n",
            "Requirement already satisfied: pandas in /usr/local/lib/python3.6/dist-packages (1.0.4)\n",
            "Requirement already satisfied: python-dateutil>=2.6.1 in /usr/local/lib/python3.6/dist-packages (from pandas) (2.8.1)\n",
            "Requirement already satisfied: numpy>=1.13.3 in /usr/local/lib/python3.6/dist-packages (from pandas) (1.18.5)\n",
            "Requirement already satisfied: pytz>=2017.2 in /usr/local/lib/python3.6/dist-packages (from pandas) (2018.9)\n",
            "Requirement already satisfied: six>=1.5 in /usr/local/lib/python3.6/dist-packages (from python-dateutil>=2.6.1->pandas) (1.12.0)\n",
            "Collecting quandl\n",
            "  Downloading https://files.pythonhosted.org/packages/07/ab/8cd479fba8a9b197a43a0d55dd534b066fb8e5a0a04b5c0384cbc5d663aa/Quandl-3.5.0-py2.py3-none-any.whl\n",
            "Collecting inflection>=0.3.1\n",
            "  Downloading https://files.pythonhosted.org/packages/d2/cd/f04c661d1b5ba6b7d77008e8fedd28a27a683eeeffcd93c6b2dbe54ea983/inflection-0.5.0-py2.py3-none-any.whl\n",
            "Requirement already satisfied: python-dateutil in /usr/local/lib/python3.6/dist-packages (from quandl) (2.8.1)\n",
            "Requirement already satisfied: requests>=2.7.0 in /usr/local/lib/python3.6/dist-packages (from quandl) (2.23.0)\n",
            "Requirement already satisfied: more-itertools in /usr/local/lib/python3.6/dist-packages (from quandl) (8.3.0)\n",
            "Requirement already satisfied: six in /usr/local/lib/python3.6/dist-packages (from quandl) (1.12.0)\n",
            "Requirement already satisfied: pandas>=0.14 in /usr/local/lib/python3.6/dist-packages (from quandl) (1.0.4)\n",
            "Requirement already satisfied: numpy>=1.8 in /usr/local/lib/python3.6/dist-packages (from quandl) (1.18.5)\n",
            "Requirement already satisfied: chardet<4,>=3.0.2 in /usr/local/lib/python3.6/dist-packages (from requests>=2.7.0->quandl) (3.0.4)\n",
            "Requirement already satisfied: idna<3,>=2.5 in /usr/local/lib/python3.6/dist-packages (from requests>=2.7.0->quandl) (2.9)\n",
            "Requirement already satisfied: urllib3!=1.25.0,!=1.25.1,<1.26,>=1.21.1 in /usr/local/lib/python3.6/dist-packages (from requests>=2.7.0->quandl) (1.24.3)\n",
            "Requirement already satisfied: certifi>=2017.4.17 in /usr/local/lib/python3.6/dist-packages (from requests>=2.7.0->quandl) (2020.4.5.1)\n",
            "Requirement already satisfied: pytz>=2017.2 in /usr/local/lib/python3.6/dist-packages (from pandas>=0.14->quandl) (2018.9)\n",
            "Installing collected packages: inflection, quandl\n",
            "Successfully installed inflection-0.5.0 quandl-3.5.0\n"
          ],
          "name": "stdout"
        }
      ]
    },
    {
      "cell_type": "code",
      "metadata": {
        "id": "8hixfEwwIIsR",
        "colab_type": "code",
        "colab": {}
      },
      "source": [
        "import pandas as pd\n",
        "import quandl, math, datetime\n",
        "import numpy as np\n",
        "from sklearn import preprocessing, svm\n",
        "from sklearn.model_selection import train_test_split\n",
        "from sklearn.linear_model import LinearRegression\n",
        "import matplotlib.pyplot as plt\n",
        "from matplotlib import style\n",
        "import pickle\n",
        "\n",
        "style.use('ggplot')     # the style of the graph that will be plotted"
      ],
      "execution_count": 3,
      "outputs": []
    },
    {
      "cell_type": "code",
      "metadata": {
        "id": "CXKZp9J0M96_",
        "colab_type": "code",
        "colab": {
          "base_uri": "https://localhost:8080/",
          "height": 193
        },
        "outputId": "f35358b2-431a-424d-b9dd-90558aebbdaf"
      },
      "source": [
        "# storing the tabled data received from quandl in a pandas dataframe\n",
        "df = quandl.get(\"WIKI/GOOGL\")       # https://www.quandl.com/\n",
        "\n",
        "print(df.size)\n",
        "print(df.head())"
      ],
      "execution_count": 4,
      "outputs": [
        {
          "output_type": "stream",
          "text": [
            "41088\n",
            "              Open    High     Low  ...   Adj. Low  Adj. Close  Adj. Volume\n",
            "Date                                ...                                    \n",
            "2004-08-19  100.01  104.06   95.96  ...  48.128568   50.322842   44659000.0\n",
            "2004-08-20  101.01  109.08  100.50  ...  50.405597   54.322689   22834300.0\n",
            "2004-08-23  110.76  113.48  109.05  ...  54.693835   54.869377   18256100.0\n",
            "2004-08-24  111.24  111.60  103.57  ...  51.945350   52.597363   15247300.0\n",
            "2004-08-25  104.76  108.00  103.88  ...  52.100830   53.164113    9188600.0\n",
            "\n",
            "[5 rows x 12 columns]\n"
          ],
          "name": "stdout"
        }
      ]
    },
    {
      "cell_type": "markdown",
      "metadata": {
        "id": "veftqBrLNlh8",
        "colab_type": "text"
      },
      "source": [
        "## Feature Engineering\n",
        "Each column is a feature here.\n",
        "\n",
        "All these columns aren't needed to find a pattern.\n",
        "\n",
        "Relationships between features can be identified in Deep learning, but not in Regression.\n",
        "\n",
        "We want to keep only meaningful features."
      ]
    },
    {
      "cell_type": "code",
      "metadata": {
        "id": "f7ksGevoNiDj",
        "colab_type": "code",
        "colab": {
          "base_uri": "https://localhost:8080/",
          "height": 140
        },
        "outputId": "383e1671-94a5-4a5b-c1e0-7e15b9cf2aa7"
      },
      "source": [
        "# creating a long list of columns that we want to have\n",
        "# recreating the dataframe to contain only the mentioned columns\n",
        "df = df[['Adj. Open', 'Adj. High','Adj. Low','Adj. Close','Adj. Volume']]\n",
        "\n",
        "# print(df.head())\n",
        "\n",
        "# defining special relationships, to use as features\n",
        "df['HL_PCT'] = (df['Adj. High'] - df['Adj. Low']) / df['Adj. Close'] * 100\n",
        "df['PCT_Change'] = (df['Adj. Close'] - df['Adj. Open']) / df['Adj. Open'] * 100\n",
        "\n",
        "# creating a new dataframe with the special features\n",
        "df = df[['Adj. Close','HL_PCT','PCT_Change','Adj. Volume']]\n",
        "\n",
        "print(df.head())\n"
      ],
      "execution_count": 5,
      "outputs": [
        {
          "output_type": "stream",
          "text": [
            "            Adj. Close    HL_PCT  PCT_Change  Adj. Volume\n",
            "Date                                                     \n",
            "2004-08-19   50.322842  8.072956    0.324968   44659000.0\n",
            "2004-08-20   54.322689  7.921706    7.227007   22834300.0\n",
            "2004-08-23   54.869377  4.049360   -1.227880   18256100.0\n",
            "2004-08-24   52.597363  7.657099   -5.726357   15247300.0\n",
            "2004-08-25   53.164113  3.886792    1.183658    9188600.0\n"
          ],
          "name": "stdout"
        }
      ]
    },
    {
      "cell_type": "markdown",
      "metadata": {
        "id": "hkJdNXqoRW_F",
        "colab_type": "text"
      },
      "source": [
        "Features are kind of like attributes that make up the label.\n",
        "The label is a prediction"
      ]
    },
    {
      "cell_type": "code",
      "metadata": {
        "id": "LcITedePOROo",
        "colab_type": "code",
        "colab": {
          "base_uri": "https://localhost:8080/",
          "height": 158
        },
        "outputId": "0dac2973-5f7b-4c19-dd7a-1a6cef6065d5"
      },
      "source": [
        "# what is needed to be predicted (The column)\n",
        "forecast_col = 'Adj. Close'\n",
        "\n",
        "# fill up empty coloums(columns that don't have numbers)\n",
        "df.fillna(-99999, inplace=True)\n",
        "\n",
        "# math.ceil => round a number to the nearest whole number\n",
        "# try to predict 1% of the dataframe\n",
        "forecast_out = int(math.ceil(0.01*len(df)))\n",
        "print(forecast_out)     # number of days used to predict\n",
        "\n",
        "# will be using data that came 1% days ago to predict today ??\n",
        "\n",
        "df['label'] = df[forecast_col].shift(-forecast_out)\n",
        "# shifting the columns negatively (shifting columns up the spreadsheet)\n",
        "# this way the forecast_col will take an Adj. Close which is 1% days into the future\n",
        "\n",
        "print(df.head())\n",
        "\n",
        "# df.dropna() => Drop the rows where at least one element is missing.\n",
        "#       - This is done after splitting the to be predicted features set\n",
        "# (inplace=True) => Keep the DataFrame with valid entries in the same variable.\n",
        "# df.dropna(inplace=True)\n",
        "# print(df.tail())"
      ],
      "execution_count": 6,
      "outputs": [
        {
          "output_type": "stream",
          "text": [
            "35\n",
            "            Adj. Close    HL_PCT  PCT_Change  Adj. Volume      label\n",
            "Date                                                                \n",
            "2004-08-19   50.322842  8.072956    0.324968   44659000.0  69.078238\n",
            "2004-08-20   54.322689  7.921706    7.227007   22834300.0  67.839414\n",
            "2004-08-23   54.869377  4.049360   -1.227880   18256100.0  68.912727\n",
            "2004-08-24   52.597363  7.657099   -5.726357   15247300.0  70.668146\n",
            "2004-08-25   53.164113  3.886792    1.183658    9188600.0  71.219849\n"
          ],
          "name": "stdout"
        }
      ]
    },
    {
      "cell_type": "markdown",
      "metadata": {
        "id": "XNOmu1_pUKiY",
        "colab_type": "text"
      },
      "source": [
        "In ML, can't work with NA(Not available/ no numbers) data.\n",
        "\n",
        "They need to be replaced with something.\n",
        "Or get rid of an entire row (not that good in the real world, we'll be loosing data).\n",
        "\n",
        "\n",
        "---\n",
        "\n",
        "This is using the previous 1% of days from the entire dataset to predict the Adj. Close of a day (which is 1% of days into the future)\n",
        "\n"
      ]
    },
    {
      "cell_type": "markdown",
      "metadata": {
        "id": "qCIErxnIQQtz",
        "colab_type": "text"
      },
      "source": [
        "## Defining Training & Testing data"
      ]
    },
    {
      "cell_type": "code",
      "metadata": {
        "id": "48Dgnv2zC3gr",
        "colab_type": "code",
        "colab": {
          "base_uri": "https://localhost:8080/",
          "height": 809
        },
        "outputId": "6f2fcc02-97b6-4ba4-a6f8-19aed3344e37"
      },
      "source": [
        "# defining feature and label\n",
        "# feature\n",
        "X = np.array(df.drop(['label'],1))    # df.drop(['label'],1) returns a new dataframe without the label column\n",
        "\n",
        "\n",
        "# normalizing all the datapoints by scaling along-side all the other values\n",
        "# to help with training and testing\n",
        "# can be skipped for high frequency (trading), because processing time increases\n",
        "X = preprocessing.scale(X)\n",
        "\n",
        "\n",
        "X = X[:-forecast_out]    # X values that have y values (used for training & testing)\n",
        "X_lately = X[-forecast_out:]    # X values that don't have y (to be predicted)\n",
        "\n",
        "print(X)\n",
        "print(X.size)\n",
        "\n",
        "print(X_lately)\n",
        "print(X_lately.size)\n",
        "\n",
        "df.dropna(inplace=True)     # dropping the rows with missing columns\n",
        "\n",
        "# label\n",
        "y = np.array(df['label'])\n",
        "y = np.array(df['label'])\n",
        "\n",
        "print(len(X), len(y))     # making sure that X & y are equal\n",
        "\n",
        "X_train, X_test, y_train, y_test = train_test_split(X, y, test_size=0.2)\n"
      ],
      "execution_count": 7,
      "outputs": [
        {
          "output_type": "stream",
          "text": [
            "[[-1.39187095  4.25846492  0.23254018  4.46712802]\n",
            " [-1.37635178  4.15018674  4.81828847  1.8207495 ]\n",
            " [-1.37423066  1.3780063  -0.79917922  1.26561472]\n",
            " ...\n",
            " [ 2.99737935 -0.42487551  0.33301614 -0.61156746]\n",
            " [ 2.7553098  -0.23328983 -0.46778619 -0.24489949]\n",
            " [ 2.55960556  2.38088557 -1.90605746 -0.49425191]]\n",
            "13556\n",
            "[[ 2.51580102 -0.60832079  0.1412663  -0.76234496]\n",
            " [ 2.57217657 -0.50849796  0.53002653 -0.57449085]\n",
            " [ 2.622965   -0.45737474  0.54990695 -0.7682545 ]\n",
            " [ 2.60236251 -0.67888992 -0.18213542 -0.7918798 ]\n",
            " [ 2.57822928 -0.67867936 -0.43576398 -0.77476995]\n",
            " [ 2.56771464 -0.9513124  -0.26386317 -0.80120658]\n",
            " [ 2.55999355 -1.24763038 -0.05415684 -0.84367193]\n",
            " [ 2.54831493 -0.83445776 -0.15683226 -0.8371515 ]\n",
            " [ 2.52639326 -0.85308259 -0.38203759 -0.82344228]\n",
            " [ 2.50990351 -0.74395506 -0.37741547 -0.82894113]\n",
            " [ 2.50000966 -1.15731052 -0.11493011 -0.80783383]\n",
            " [ 2.5768713   0.01066467  1.29052176 -0.75939783]\n",
            " [ 2.64791303 -0.03404707  1.10486504 -0.7600303 ]\n",
            " [ 2.66436398 -0.87932805 -0.06391545 -0.79171453]\n",
            " [ 2.72073953 -0.76134736  0.42847749 -0.76696664]\n",
            " [ 2.7359489  -0.93235737  0.20859595 -0.808731  ]\n",
            " [ 2.73043938 -0.86212666 -0.31900577 -0.78605162]\n",
            " [ 2.72015754 -0.95341485  0.2050883  -0.82342446]\n",
            " [ 2.72690863 -0.98198876 -0.00905454 -0.81436905]\n",
            " [ 2.79973513 -0.04624815  1.24656612 -0.7159092 ]\n",
            " [ 2.79992913 -0.11405937 -0.54329912 -0.7317427 ]\n",
            " [ 2.83252064 -0.52602692  0.17683201 -0.7839779 ]\n",
            " [ 2.82037642 -0.50437961 -0.18047237 -0.78633803]\n",
            " [ 2.84959238 -0.81470917  0.33597981 -0.77606242]\n",
            " [ 2.92975197  0.02014938  1.19810925 -0.77368847]\n",
            " [ 2.97635007 -0.835542    0.33162966 -0.7258927 ]\n",
            " [ 2.95741595 -0.3198903  -0.75095251 -0.7275835 ]\n",
            " [ 2.99951332 -0.72394112  0.09709864 -0.77841661]\n",
            " [ 3.0205426  -0.34357843  0.01830866 -0.7077831 ]\n",
            " [ 3.01635226 -0.67979309 -0.06837781 -0.76205067]\n",
            " [ 2.981006   -0.70490321 -0.00311486 -0.73068523]\n",
            " [ 2.99982371 -0.6598069  -0.07260739 -0.74871905]\n",
            " [ 2.99737935 -0.42487551  0.33301614 -0.61156746]\n",
            " [ 2.7553098  -0.23328983 -0.46778619 -0.24489949]\n",
            " [ 2.55960556  2.38088557 -1.90605746 -0.49425191]]\n",
            "140\n",
            "3389 3389\n"
          ],
          "name": "stdout"
        }
      ]
    },
    {
      "cell_type": "markdown",
      "metadata": {
        "id": "gyulJivqGhI3",
        "colab_type": "text"
      },
      "source": [
        "testing set size is 20% of the data\n",
        "\n",
        "spliting training and testing data\n"
      ]
    },
    {
      "cell_type": "markdown",
      "metadata": {
        "id": "luzz4c_uQhQJ",
        "colab_type": "text"
      },
      "source": [
        "## Creating, Training & Testing the ML Model"
      ]
    },
    {
      "cell_type": "code",
      "metadata": {
        "id": "bq4ChC51HzuM",
        "colab_type": "code",
        "colab": {
          "base_uri": "https://localhost:8080/",
          "height": 34
        },
        "outputId": "2b3195fb-063c-437d-cbf8-0a92910e2100"
      },
      "source": [
        "# fit the classifier\n",
        "\n",
        "# define classifier\n",
        "clf = LinearRegression()\n",
        "# training\n",
        "clf.fit(X_train, y_train)\n",
        "\n",
        "\n",
        "# saving the model as a pickle\n",
        "model_save_name = 'LinearRegression.pickle'\n",
        "path = F\"/content/gdrive/My Drive/Extra Learning/ML - Python/{model_save_name}\" \n",
        "\n",
        "# with open(path, 'wb') as f:    # open the file to write and take the file as variable f\n",
        "#   pickle.dump(clf, f)     # dump the trained classifier in f\n",
        "\n",
        "# opening the saved ML model from a pickle\n",
        "pickle_in = open(path, 'rb')     # open the file\n",
        "clf = pickle.load(pickle_in)      # load the model from the saved pickle\n",
        "\n",
        "# testing\n",
        "accuracy = clf.score(X_test, y_test)\n",
        "\n",
        "print('accuracy: ',accuracy)"
      ],
      "execution_count": 23,
      "outputs": [
        {
          "output_type": "stream",
          "text": [
            "accuracy:  0.9749589645405153\n"
          ],
          "name": "stdout"
        }
      ]
    },
    {
      "cell_type": "markdown",
      "metadata": {
        "id": "8bHxtdhGMsTp",
        "colab_type": "text"
      },
      "source": [
        "```\n",
        "clf = svm.SVR()\n",
        "```\n",
        "can be used instead of the LinearRegression() classifier, to use the Support Vector Regression algorithm.\n",
        "\n",
        "---\n",
        "\n",
        "```\n",
        "clf = LinearRegression(n_jobs=10)\n",
        "```\n",
        "n_jobs can be used to increase parallel processing (threading), to make training faster. It's set to 1 by default.\n",
        "\n",
        "-1 means using all processors\n",
        "\n",
        "---\n",
        "A pickle is basically like a file.\n",
        "\n"
      ]
    },
    {
      "cell_type": "markdown",
      "metadata": {
        "id": "ktS4L7F4U6PD",
        "colab_type": "text"
      },
      "source": [
        "## Predicting\n",
        "\n",
        "*predicting based on all features*"
      ]
    },
    {
      "cell_type": "code",
      "metadata": {
        "id": "pxR1SjuAU5R1",
        "colab_type": "code",
        "colab": {
          "base_uri": "https://localhost:8080/",
          "height": 140
        },
        "outputId": "4a125382-3a81-4ccc-adfe-4cfb620009d7"
      },
      "source": [
        "forecast_set = clf.predict(X_lately)\n",
        "\n",
        "print(forecast_set, accuracy, forecast_out)"
      ],
      "execution_count": 9,
      "outputs": [
        {
          "output_type": "stream",
          "text": [
            "[1076.06761269 1090.50560468 1103.93322363 1098.50426441 1091.98948142\n",
            " 1090.06151849 1088.97186108 1084.90527265 1079.03746496 1074.51791527\n",
            " 1073.06553254 1091.50136296 1109.91272987 1115.17162396 1129.92966951\n",
            " 1134.15506554 1132.08334119 1130.11994753 1131.74431906 1149.44647211\n",
            " 1148.17450966 1158.26909529 1154.76772701 1163.479187   1183.14660097\n",
            " 1196.38498346 1189.39224708 1202.04469573 1206.4659627  1206.15526137\n",
            " 1197.02693631 1201.78805163 1200.73161548 1136.09182494 1078.52730367] 0.9749589645405153 35\n"
          ],
          "name": "stdout"
        }
      ]
    },
    {
      "cell_type": "markdown",
      "metadata": {
        "id": "LnjK0gjFW-H2",
        "colab_type": "text"
      },
      "source": [
        "```\n",
        "clf.predict()\n",
        "```\n",
        "Can make a prediction per value of an array/ can predict for one value\n",
        "\n",
        "---\n",
        "The stock prices for the next 1% of the days (33 days) are predicted\n",
        "\n"
      ]
    },
    {
      "cell_type": "markdown",
      "metadata": {
        "id": "ezK020vJdmpC",
        "colab_type": "text"
      },
      "source": [
        "Since date is not a feature (in X), it needs to be calculated to be used for the x-axis of the graph.\n",
        "\n",
        "X & y aren't necessarily x-axis & y-axis of the graph.\n",
        "\n",
        "In this case y(price) happens to be what is needed for the y-axis. Therefore, the label(y) can directly be taken."
      ]
    },
    {
      "cell_type": "markdown",
      "metadata": {
        "id": "j1BubE1Rmj5L",
        "colab_type": "text"
      },
      "source": [
        "## Forcasting\n",
        "Forcasting prices into the future depending on past data.\n",
        "\n",
        "*Predicting based on time-series data.*"
      ]
    },
    {
      "cell_type": "code",
      "metadata": {
        "id": "LFUOhEspYs6A",
        "colab_type": "code",
        "colab": {
          "base_uri": "https://localhost:8080/",
          "height": 263
        },
        "outputId": "e288a2ad-93c6-4ed2-b93c-78b50896333d"
      },
      "source": [
        "df['Forecast'] = np.nan     # this column is specified to be full of not a number data\n",
        "\n",
        "# This is just to show the date on the x-axis\n",
        "\n",
        "last_date = df.iloc[-1].name\n",
        "last_unix = last_date.timestamp()\n",
        "one_day = 86400   # number of seconds per day\n",
        "next_unix = last_unix + one_day\n",
        "\n",
        "\n",
        "for i in forecast_set:\n",
        "  next_date = datetime.datetime.fromtimestamp(next_unix)\n",
        "  next_unix += one_day\n",
        "  df.loc[next_date] = [np.nan for _ in range(len(df.columns) - 1)] +[i]\n",
        "\n",
        "print(df.head())\n",
        "print(df.tail())"
      ],
      "execution_count": 10,
      "outputs": [
        {
          "output_type": "stream",
          "text": [
            "            Adj. Close    HL_PCT  PCT_Change  Adj. Volume      label  Forecast\n",
            "Date                                                                          \n",
            "2004-08-19   50.322842  8.072956    0.324968   44659000.0  69.078238       NaN\n",
            "2004-08-20   54.322689  7.921706    7.227007   22834300.0  67.839414       NaN\n",
            "2004-08-23   54.869377  4.049360   -1.227880   18256100.0  68.912727       NaN\n",
            "2004-08-24   52.597363  7.657099   -5.726357   15247300.0  70.668146       NaN\n",
            "2004-08-25   53.164113  3.886792    1.183658    9188600.0  71.219849       NaN\n",
            "            Adj. Close  HL_PCT  PCT_Change  Adj. Volume  label     Forecast\n",
            "Date                                                                       \n",
            "2018-03-08         NaN     NaN         NaN          NaN    NaN  1197.026936\n",
            "2018-03-09         NaN     NaN         NaN          NaN    NaN  1201.788052\n",
            "2018-03-10         NaN     NaN         NaN          NaN    NaN  1200.731615\n",
            "2018-03-11         NaN     NaN         NaN          NaN    NaN  1136.091825\n",
            "2018-03-12         NaN     NaN         NaN          NaN    NaN  1078.527304\n"
          ],
          "name": "stdout"
        }
      ]
    },
    {
      "cell_type": "code",
      "metadata": {
        "id": "Myuans3tnL9m",
        "colab_type": "code",
        "colab": {
          "base_uri": "https://localhost:8080/",
          "height": 272
        },
        "outputId": "c1b61f84-2a57-4e52-ad18-5a9ff713f62c"
      },
      "source": [
        "# plotting the graph\n",
        "\n",
        "df['Adj. Close'].plot()   # known prices\n",
        "df['Forecast'].plot()   # forecasted prices\n",
        "plt.legend(loc=4)   # location of the legend on the graph is given by loc\n",
        "plt.xlabel('Date')\n",
        "plt.ylabel('Price')\n",
        "plt.show()"
      ],
      "execution_count": 11,
      "outputs": [
        {
          "output_type": "display_data",
          "data": {
            "image/png": "[encoded data removed]",
            "text/plain": [
              "<Figure size 432x288 with 1 Axes>"
            ]
          },
          "metadata": {
            "tags": []
          }
        }
      ]
    }
  ]
}