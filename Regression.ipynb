{
  "nbformat": 4,
  "nbformat_minor": 0,
  "metadata": {
    "colab": {
      "name": "Regression.ipynb",
      "provenance": [],
      "mount_file_id": "10XZ1-wTAQYBcS96bZ7nhqJcCd-zhUSlD",
      "authorship_tag": "ABX9TyPQtPwJSJ7xchIA7XeLuwlt",
      "include_colab_link": true
    },
    "kernelspec": {
      "name": "python3",
      "display_name": "Python 3"
    }
  },
  "cells": [
    {
      "cell_type": "markdown",
      "metadata": {
        "id": "view-in-github",
        "colab_type": "text"
      },
      "source": [
        "<a href=\"https://colab.research.google.com/github/DinDev3/Python-Machine-Learning/blob/master/Regression.ipynb\" target=\"_parent\"><img src=\"https://colab.research.google.com/assets/colab-badge.svg\" alt=\"Open In Colab\"/></a>"
      ]
    },
    {
      "cell_type": "markdown",
      "metadata": {
        "id": "IxUi0qvmHtRT",
        "colab_type": "text"
      },
      "source": [
        "# Linear Regression\n",
        "\n",
        "Install packages\n",
        "- pip install sklearn\n",
        "- pip install pandas\n",
        "- pip install quandl\n",
        "\n",
        "---\n",
        "Stock Prices\n"
      ]
    },
    {
      "cell_type": "code",
      "metadata": {
        "id": "CxsCDg8kWsaB",
        "colab_type": "code",
        "colab": {
          "base_uri": "https://localhost:8080/",
          "height": 125
        },
        "outputId": "dcd874a1-aa0a-4f4f-db0d-b4bf434198b4"
      },
      "source": [
        "from google.colab import drive\n",
        "drive.mount('/content/gdrive')"
      ],
      "execution_count": 1,
      "outputs": [
        {
          "output_type": "stream",
          "text": [
            "Go to this URL in a browser: https://accounts.google.com/o/oauth2/auth?client_id=947318989803-6bn6qk8qdgf4n4g3pfee6491hc0brc4i.apps.googleusercontent.com&redirect_uri=urn%3aietf%3awg%3aoauth%3a2.0%3aoob&response_type=code&scope=email%20https%3a%2f%2fwww.googleapis.com%2fauth%2fdocs.test%20https%3a%2f%2fwww.googleapis.com%2fauth%2fdrive%20https%3a%2f%2fwww.googleapis.com%2fauth%2fdrive.photos.readonly%20https%3a%2f%2fwww.googleapis.com%2fauth%2fpeopleapi.readonly\n",
            "\n",
            "Enter your authorization code:\n",
            "··········\n",
            "Mounted at /content/gdrive\n"
          ],
          "name": "stdout"
        }
      ]
    },
    {
      "cell_type": "code",
      "metadata": {
        "id": "eVVxqio5JMge",
        "colab_type": "code",
        "colab": {
          "base_uri": "https://localhost:8080/",
          "height": 512
        },
        "outputId": "8e5d722d-c51d-4b14-d8d0-11b23bab16ca"
      },
      "source": [
        "# !pip --version\n",
        "# !pip install --upgrade pip\n",
        "!pip install sklearn\n",
        "!pip install pandas\n",
        "!pip install quandl"
      ],
      "execution_count": 2,
      "outputs": [
        {
          "output_type": "stream",
          "text": [
            "Requirement already satisfied: sklearn in /usr/local/lib/python3.6/dist-packages (0.0)\n",
            "Requirement already satisfied: scikit-learn in /usr/local/lib/python3.6/dist-packages (from sklearn) (0.22.2.post1)\n",
            "Requirement already satisfied: numpy>=1.11.0 in /usr/local/lib/python3.6/dist-packages (from scikit-learn->sklearn) (1.18.5)\n",
            "Requirement already satisfied: joblib>=0.11 in /usr/local/lib/python3.6/dist-packages (from scikit-learn->sklearn) (0.15.1)\n",
            "Requirement already satisfied: scipy>=0.17.0 in /usr/local/lib/python3.6/dist-packages (from scikit-learn->sklearn) (1.4.1)\n",
            "Requirement already satisfied: pandas in /usr/local/lib/python3.6/dist-packages (1.0.4)\n",
            "Requirement already satisfied: python-dateutil>=2.6.1 in /usr/local/lib/python3.6/dist-packages (from pandas) (2.8.1)\n",
            "Requirement already satisfied: numpy>=1.13.3 in /usr/local/lib/python3.6/dist-packages (from pandas) (1.18.5)\n",
            "Requirement already satisfied: pytz>=2017.2 in /usr/local/lib/python3.6/dist-packages (from pandas) (2018.9)\n",
            "Requirement already satisfied: six>=1.5 in /usr/local/lib/python3.6/dist-packages (from python-dateutil>=2.6.1->pandas) (1.12.0)\n",
            "Collecting quandl\n",
            "  Downloading https://files.pythonhosted.org/packages/07/ab/8cd479fba8a9b197a43a0d55dd534b066fb8e5a0a04b5c0384cbc5d663aa/Quandl-3.5.0-py2.py3-none-any.whl\n",
            "Requirement already satisfied: pandas>=0.14 in /usr/local/lib/python3.6/dist-packages (from quandl) (1.0.4)\n",
            "Requirement already satisfied: more-itertools in /usr/local/lib/python3.6/dist-packages (from quandl) (8.4.0)\n",
            "Requirement already satisfied: six in /usr/local/lib/python3.6/dist-packages (from quandl) (1.12.0)\n",
            "Requirement already satisfied: python-dateutil in /usr/local/lib/python3.6/dist-packages (from quandl) (2.8.1)\n",
            "Collecting inflection>=0.3.1\n",
            "  Downloading https://files.pythonhosted.org/packages/d2/cd/f04c661d1b5ba6b7d77008e8fedd28a27a683eeeffcd93c6b2dbe54ea983/inflection-0.5.0-py2.py3-none-any.whl\n",
            "Requirement already satisfied: requests>=2.7.0 in /usr/local/lib/python3.6/dist-packages (from quandl) (2.23.0)\n",
            "Requirement already satisfied: numpy>=1.8 in /usr/local/lib/python3.6/dist-packages (from quandl) (1.18.5)\n",
            "Requirement already satisfied: pytz>=2017.2 in /usr/local/lib/python3.6/dist-packages (from pandas>=0.14->quandl) (2018.9)\n",
            "Requirement already satisfied: idna<3,>=2.5 in /usr/local/lib/python3.6/dist-packages (from requests>=2.7.0->quandl) (2.9)\n",
            "Requirement already satisfied: chardet<4,>=3.0.2 in /usr/local/lib/python3.6/dist-packages (from requests>=2.7.0->quandl) (3.0.4)\n",
            "Requirement already satisfied: urllib3!=1.25.0,!=1.25.1,<1.26,>=1.21.1 in /usr/local/lib/python3.6/dist-packages (from requests>=2.7.0->quandl) (1.24.3)\n",
            "Requirement already satisfied: certifi>=2017.4.17 in /usr/local/lib/python3.6/dist-packages (from requests>=2.7.0->quandl) (2020.4.5.2)\n",
            "Installing collected packages: inflection, quandl\n",
            "Successfully installed inflection-0.5.0 quandl-3.5.0\n"
          ],
          "name": "stdout"
        }
      ]
    },
    {
      "cell_type": "code",
      "metadata": {
        "id": "8hixfEwwIIsR",
        "colab_type": "code",
        "colab": {}
      },
      "source": [
        "import pandas as pd\n",
        "import quandl, math, datetime\n",
        "import numpy as np\n",
        "from sklearn import preprocessing, svm\n",
        "from sklearn.model_selection import train_test_split\n",
        "from sklearn.linear_model import LinearRegression\n",
        "import matplotlib.pyplot as plt\n",
        "from matplotlib import style\n",
        "import pickle\n",
        "\n",
        "style.use('ggplot')     # the style of the graph that will be plotted"
      ],
      "execution_count": 3,
      "outputs": []
    },
    {
      "cell_type": "code",
      "metadata": {
        "id": "CXKZp9J0M96_",
        "colab_type": "code",
        "colab": {
          "base_uri": "https://localhost:8080/",
          "height": 193
        },
        "outputId": "e84cf784-2324-4b1f-ed5b-248c43535d53"
      },
      "source": [
        "# storing the tabled data received from quandl in a pandas dataframe\n",
        "df = quandl.get(\"WIKI/GOOGL\")       # https://www.quandl.com/\n",
        "\n",
        "print(df.size)\n",
        "print(df.head())"
      ],
      "execution_count": 4,
      "outputs": [
        {
          "output_type": "stream",
          "text": [
            "41088\n",
            "              Open    High     Low  ...   Adj. Low  Adj. Close  Adj. Volume\n",
            "Date                                ...                                    \n",
            "2004-08-19  100.01  104.06   95.96  ...  48.128568   50.322842   44659000.0\n",
            "2004-08-20  101.01  109.08  100.50  ...  50.405597   54.322689   22834300.0\n",
            "2004-08-23  110.76  113.48  109.05  ...  54.693835   54.869377   18256100.0\n",
            "2004-08-24  111.24  111.60  103.57  ...  51.945350   52.597363   15247300.0\n",
            "2004-08-25  104.76  108.00  103.88  ...  52.100830   53.164113    9188600.0\n",
            "\n",
            "[5 rows x 12 columns]\n"
          ],
          "name": "stdout"
        }
      ]
    },
    {
      "cell_type": "markdown",
      "metadata": {
        "id": "veftqBrLNlh8",
        "colab_type": "text"
      },
      "source": [
        "## Feature Engineering\n",
        "Each column is a feature here.\n",
        "\n",
        "All these columns aren't needed to find a pattern.\n",
        "\n",
        "Relationships between features can be identified in Deep learning, but not in Regression.\n",
        "\n",
        "We want to keep only meaningful features."
      ]
    },
    {
      "cell_type": "code",
      "metadata": {
        "id": "f7ksGevoNiDj",
        "colab_type": "code",
        "colab": {
          "base_uri": "https://localhost:8080/",
          "height": 140
        },
        "outputId": "4dafa776-126b-41c2-be22-c8bfc0956d6f"
      },
      "source": [
        "# creating a long list of columns that we want to have\n",
        "# recreating the dataframe to contain only the mentioned columns\n",
        "df = df[['Adj. Open', 'Adj. High','Adj. Low','Adj. Close','Adj. Volume']]\n",
        "\n",
        "# print(df.head())\n",
        "\n",
        "# defining special relationships, to use as features\n",
        "df['HL_PCT'] = (df['Adj. High'] - df['Adj. Low']) / df['Adj. Close'] * 100\n",
        "df['PCT_Change'] = (df['Adj. Close'] - df['Adj. Open']) / df['Adj. Open'] * 100\n",
        "\n",
        "# creating a new dataframe with the special features\n",
        "df = df[['Adj. Close','HL_PCT','PCT_Change','Adj. Volume']]\n",
        "\n",
        "print(df.head())\n"
      ],
      "execution_count": 5,
      "outputs": [
        {
          "output_type": "stream",
          "text": [
            "            Adj. Close    HL_PCT  PCT_Change  Adj. Volume\n",
            "Date                                                     \n",
            "2004-08-19   50.322842  8.072956    0.324968   44659000.0\n",
            "2004-08-20   54.322689  7.921706    7.227007   22834300.0\n",
            "2004-08-23   54.869377  4.049360   -1.227880   18256100.0\n",
            "2004-08-24   52.597363  7.657099   -5.726357   15247300.0\n",
            "2004-08-25   53.164113  3.886792    1.183658    9188600.0\n"
          ],
          "name": "stdout"
        }
      ]
    },
    {
      "cell_type": "markdown",
      "metadata": {
        "id": "hkJdNXqoRW_F",
        "colab_type": "text"
      },
      "source": [
        "Features are kind of like attributes that make up the label.\n",
        "The label is a prediction"
      ]
    },
    {
      "cell_type": "code",
      "metadata": {
        "id": "LcITedePOROo",
        "colab_type": "code",
        "colab": {
          "base_uri": "https://localhost:8080/",
          "height": 158
        },
        "outputId": "ac1e5fba-6edd-4f62-996a-da2e11b68629"
      },
      "source": [
        "# what is needed to be predicted (The column)\n",
        "forecast_col = 'Adj. Close'\n",
        "\n",
        "# fill up empty coloums(columns that don't have numbers)\n",
        "df.fillna(-99999, inplace=True)\n",
        "\n",
        "# math.ceil => round a number to the nearest whole number\n",
        "# try to predict 1% of the dataframe\n",
        "forecast_out = int(math.ceil(0.01*len(df)))\n",
        "print(forecast_out)     # number of days used to predict\n",
        "\n",
        "# will be using data that came 1% days ago to predict today ??\n",
        "\n",
        "df['label'] = df[forecast_col].shift(-forecast_out)\n",
        "# shifting the columns negatively (shifting columns up the spreadsheet)\n",
        "# this way the forecast_col will take an Adj. Close which is 1% days into the future\n",
        "\n",
        "print(df.head())\n",
        "\n",
        "# df.dropna() => Drop the rows where at least one element is missing.\n",
        "#       - This is done after splitting the to be predicted features set\n",
        "# (inplace=True) => Keep the DataFrame with valid entries in the same variable.\n",
        "# df.dropna(inplace=True)\n",
        "# print(df.tail())"
      ],
      "execution_count": 6,
      "outputs": [
        {
          "output_type": "stream",
          "text": [
            "35\n",
            "            Adj. Close    HL_PCT  PCT_Change  Adj. Volume      label\n",
            "Date                                                                \n",
            "2004-08-19   50.322842  8.072956    0.324968   44659000.0  69.078238\n",
            "2004-08-20   54.322689  7.921706    7.227007   22834300.0  67.839414\n",
            "2004-08-23   54.869377  4.049360   -1.227880   18256100.0  68.912727\n",
            "2004-08-24   52.597363  7.657099   -5.726357   15247300.0  70.668146\n",
            "2004-08-25   53.164113  3.886792    1.183658    9188600.0  71.219849\n"
          ],
          "name": "stdout"
        }
      ]
    },
    {
      "cell_type": "markdown",
      "metadata": {
        "id": "XNOmu1_pUKiY",
        "colab_type": "text"
      },
      "source": [
        "In ML, can't work with NA(Not available/ no numbers) data.\n",
        "\n",
        "They need to be replaced with something.\n",
        "Or get rid of an entire row (not that good in the real world, we'll be loosing data).\n",
        "\n",
        "\n",
        "---\n",
        "\n",
        "This is using the previous 1% of days from the entire dataset to predict the Adj. Close of a day (which is 1% of days into the future)\n",
        "\n"
      ]
    },
    {
      "cell_type": "markdown",
      "metadata": {
        "id": "qCIErxnIQQtz",
        "colab_type": "text"
      },
      "source": [
        "## Defining Training & Testing data"
      ]
    },
    {
      "cell_type": "code",
      "metadata": {
        "id": "48Dgnv2zC3gr",
        "colab_type": "code",
        "colab": {
          "base_uri": "https://localhost:8080/",
          "height": 809
        },
        "outputId": "b08c6e01-729e-4ee2-99cf-5c12527558af"
      },
      "source": [
        "# defining feature and label\n",
        "# feature\n",
        "X = np.array(df.drop(['label'],1))    # df.drop(['label'],1) returns a new dataframe without the label column\n",
        "\n",
        "\n",
        "# normalizing all the datapoints by scaling along-side all the other values\n",
        "# to help with training and testing\n",
        "# can be skipped for high frequency (trading), because processing time increases\n",
        "X = preprocessing.scale(X)\n",
        "\n",
        "\n",
        "X_lately = X[-forecast_out:]    # X values that don't have y (to be predicted) : last 1% of data\n",
        "X = X[:-forecast_out]    # X values that have y values (used for training & testing) : first 99% of data\n",
        "\n",
        "print(X)\n",
        "print(X.size)\n",
        "\n",
        "print(X_lately)\n",
        "print(X_lately.size)\n",
        "\n",
        "df.dropna(inplace=True)     # dropping the rows with missing columns\n",
        "\n",
        "# label\n",
        "y = np.array(df['label'])\n",
        "y = np.array(df['label'])\n",
        "\n",
        "print(len(X), len(y))     # making sure that X & y are equal\n",
        "\n",
        "X_train, X_test, y_train, y_test = train_test_split(X, y, test_size=0.2)\n"
      ],
      "execution_count": 7,
      "outputs": [
        {
          "output_type": "stream",
          "text": [
            "[[-1.39187095  4.25846492  0.23254018  4.46712802]\n",
            " [-1.37635178  4.15018674  4.81828847  1.8207495 ]\n",
            " [-1.37423066  1.3780063  -0.79917922  1.26561472]\n",
            " ...\n",
            " [ 2.99737935 -0.42487551  0.33301614 -0.61156746]\n",
            " [ 2.7553098  -0.23328983 -0.46778619 -0.24489949]\n",
            " [ 2.55960556  2.38088557 -1.90605746 -0.49425191]]\n",
            "13556\n",
            "[[ 2.62040424  2.26641124  3.25839716 -0.49545744]\n",
            " [ 2.50780834  0.64357973 -1.79354019 -0.6394908 ]\n",
            " [ 2.31454846  2.66581649 -3.38541422 -0.57613569]\n",
            " [ 2.46132664  2.2334127   1.15324503 -0.41015315]\n",
            " [ 2.50451039 -0.1577593  -0.11604074 -0.60898579]\n",
            " [ 2.50288082 -0.54974983  0.27859553 -0.75717739]\n",
            " [ 2.57489253  0.19225109  1.17488957 -0.70190181]\n",
            " [ 2.64729224  0.24167535  0.50169569 -0.72903566]\n",
            " [ 2.66335519 -0.42565789  0.14545442 -0.70894085]\n",
            " [ 2.69474392  0.18451827  0.67510086 -0.74841251]\n",
            " [ 2.73416412  0.32322713  0.2951878  -0.70256205]\n",
            " [ 2.71922635 -0.2108907  -0.53369123 -0.77997427]\n",
            " [ 2.78980248 -0.2161489   0.57670541 -0.79835378]\n",
            " [ 2.85036837 -0.59074485  0.71164132 -0.76748452]\n",
            " [ 2.7487527   0.23822692 -1.50481437 -0.69403423]\n",
            " [ 2.6960243   0.07765452 -1.05399713 -0.65327277]\n",
            " [ 2.5698874   1.41774617 -2.26663627 -0.61255097]\n",
            " [ 2.61927906  0.90780192  1.65946178 -0.64392126]\n",
            " [ 2.66048404  0.36960217  1.04146504 -0.77436569]\n",
            " [ 2.68430688 -0.79713698 -0.05571221 -0.80629254]\n",
            " [ 2.73916925  0.16700589  1.36754569 -0.76162652]\n",
            " [ 2.79480761 -0.61825154  0.7409813  -0.76489449]\n",
            " [ 2.91687057  0.12631251  1.26089509 -0.69702792]\n",
            " [ 2.93661947 -0.35673568  0.06681485 -0.6898589 ]\n",
            " [ 2.83566339  1.20661449 -1.79317165 -0.68984216]\n",
            " [ 2.87050527 -0.43605215  0.19580727 -0.70145098]\n",
            " [ 2.87717876  0.14904614  0.07673799 -0.75114526]\n",
            " [ 2.81436251  0.08516101 -1.18698708 -0.62616245]\n",
            " [ 2.68108653  0.46069525 -1.03487645 -0.57502304]\n",
            " [ 2.66451918 -0.0098024  -0.14063968 -0.61952877]\n",
            " [ 2.65753528 -0.11463446  0.10359021 -0.70668707]\n",
            " [ 2.49903967  0.80932825 -1.63575383 -0.53357709]\n",
            " [ 2.39583323  1.40180729 -1.55184968 -0.65539548]\n",
            " [ 2.50268682  1.78591425  0.23733959 -0.55124957]\n",
            " [ 2.31974758  3.23683162 -3.54051775 -0.59144015]]\n",
            "140\n",
            "3389 3389\n"
          ],
          "name": "stdout"
        }
      ]
    },
    {
      "cell_type": "markdown",
      "metadata": {
        "id": "gyulJivqGhI3",
        "colab_type": "text"
      },
      "source": [
        "testing set size is 20% of the data\n",
        "\n",
        "spliting training and testing data\n"
      ]
    },
    {
      "cell_type": "markdown",
      "metadata": {
        "id": "luzz4c_uQhQJ",
        "colab_type": "text"
      },
      "source": [
        "## Creating, Training & Testing the ML Model"
      ]
    },
    {
      "cell_type": "code",
      "metadata": {
        "id": "bq4ChC51HzuM",
        "colab_type": "code",
        "colab": {
          "base_uri": "https://localhost:8080/",
          "height": 34
        },
        "outputId": "d51aa7a6-803c-4175-b0a3-14ff9c6d31c7"
      },
      "source": [
        "# fit the classifier\n",
        "\n",
        "# define classifier\n",
        "clf = LinearRegression()\n",
        "# training\n",
        "clf.fit(X_train, y_train)\n",
        "\n",
        "\n",
        "# saving the model as a pickle\n",
        "model_save_name = 'LinearRegression.pickle'\n",
        "path = F\"/content/gdrive/My Drive/Extra Learning/ML - Python/{model_save_name}\" \n",
        "\n",
        "with open(path, 'wb') as f:    # open the file to write and take the file as variable f\n",
        "  pickle.dump(clf, f)     # dump the trained classifier in f\n",
        "\n",
        "# opening the saved ML model from a pickle\n",
        "pickle_in = open(path, 'rb')     # open the file\n",
        "clf = pickle.load(pickle_in)      # load the model from the saved pickle\n",
        "\n",
        "# testing\n",
        "accuracy = clf.score(X_test, y_test)\n",
        "\n",
        "print('accuracy: ',accuracy)"
      ],
      "execution_count": 8,
      "outputs": [
        {
          "output_type": "stream",
          "text": [
            "accuracy:  0.9772631271736745\n"
          ],
          "name": "stdout"
        }
      ]
    },
    {
      "cell_type": "markdown",
      "metadata": {
        "id": "8bHxtdhGMsTp",
        "colab_type": "text"
      },
      "source": [
        "```\n",
        "clf = svm.SVR()\n",
        "```\n",
        "can be used instead of the LinearRegression() classifier, to use the Support Vector Regression algorithm.\n",
        "\n",
        "---\n",
        "\n",
        "```\n",
        "clf = LinearRegression(n_jobs=10)\n",
        "```\n",
        "n_jobs can be used to increase parallel processing (threading), to make training faster. It's set to 1 by default.\n",
        "\n",
        "-1 means using all processors\n",
        "\n",
        "---\n",
        "A pickle is basically like a file.\n",
        "\n"
      ]
    },
    {
      "cell_type": "markdown",
      "metadata": {
        "id": "ktS4L7F4U6PD",
        "colab_type": "text"
      },
      "source": [
        "## Predicting\n",
        "\n",
        "*predicting based on all features*"
      ]
    },
    {
      "cell_type": "code",
      "metadata": {
        "id": "pxR1SjuAU5R1",
        "colab_type": "code",
        "colab": {
          "base_uri": "https://localhost:8080/",
          "height": 160
        },
        "outputId": "3f481064-efce-4780-a9b9-eec1639d506b"
      },
      "source": [
        "forecast_set = clf.predict(X_lately)\n",
        "\n",
        "print(forecast_set, accuracy, forecast_out)"
      ],
      "execution_count": 9,
      "outputs": [
        {
          "output_type": "stream",
          "text": [
            "[1098.92545985 1069.32989    1013.08429866 1055.74256474 1071.64079075\n",
            " 1072.68359389 1090.38289342 1108.56976915 1113.92053737 1121.21065068\n",
            " 1130.7472187  1127.50636738 1146.82517188 1163.47550415 1133.20608012\n",
            " 1120.17383761 1083.27305717 1100.61157063 1112.23861313 1120.20074813\n",
            " 1133.40059748 1149.1166837  1179.48236891 1184.69311593 1153.3577032\n",
            " 1167.81585021 1168.2114019  1150.7579801  1115.30992555 1112.89265951\n",
            " 1111.66585203 1066.63051758 1038.74112575 1066.97277833 1013.04042654] 0.9772631271736745 35\n"
          ],
          "name": "stdout"
        }
      ]
    },
    {
      "cell_type": "markdown",
      "metadata": {
        "id": "LnjK0gjFW-H2",
        "colab_type": "text"
      },
      "source": [
        "```\n",
        "clf.predict()\n",
        "```\n",
        "Can make a prediction per value of an array/ can predict for one value\n",
        "\n",
        "---\n",
        "The stock prices for the next 1% of the days (33 days) are predicted\n",
        "\n"
      ]
    },
    {
      "cell_type": "markdown",
      "metadata": {
        "id": "ezK020vJdmpC",
        "colab_type": "text"
      },
      "source": [
        "Since date is not a feature (in X), it needs to be calculated to be used for the x-axis of the graph.\n",
        "\n",
        "X & y aren't necessarily x-axis & y-axis of the graph.\n",
        "\n",
        "In this case y(price) happens to be what is needed for the y-axis. Therefore, the label(y) can directly be taken."
      ]
    },
    {
      "cell_type": "markdown",
      "metadata": {
        "id": "j1BubE1Rmj5L",
        "colab_type": "text"
      },
      "source": [
        "## Forcasting\n",
        "Forcasting prices into the future depending on past data.\n",
        "\n",
        "*Predicting based on time-series data.*"
      ]
    },
    {
      "cell_type": "code",
      "metadata": {
        "id": "LFUOhEspYs6A",
        "colab_type": "code",
        "colab": {
          "base_uri": "https://localhost:8080/",
          "height": 263
        },
        "outputId": "78003206-6cea-41cd-a4fd-f9914a2f681f"
      },
      "source": [
        "df['Forecast'] = np.nan     # this column is specified to be full of not a number data\n",
        "\n",
        "# This is just to show the date on the x-axis\n",
        "\n",
        "last_date = df.iloc[-1].name\n",
        "last_unix = last_date.timestamp()\n",
        "one_day = 86400   # number of seconds per day\n",
        "next_unix = last_unix + one_day\n",
        "\n",
        "\n",
        "for i in forecast_set:\n",
        "  next_date = datetime.datetime.fromtimestamp(next_unix)\n",
        "  next_unix += one_day\n",
        "  df.loc[next_date] = [np.nan for _ in range(len(df.columns) - 1)] +[i]\n",
        "\n",
        "print(df.head())\n",
        "print(df.tail())"
      ],
      "execution_count": 10,
      "outputs": [
        {
          "output_type": "stream",
          "text": [
            "            Adj. Close    HL_PCT  PCT_Change  Adj. Volume      label  Forecast\n",
            "Date                                                                          \n",
            "2004-08-19   50.322842  8.072956    0.324968   44659000.0  69.078238       NaN\n",
            "2004-08-20   54.322689  7.921706    7.227007   22834300.0  67.839414       NaN\n",
            "2004-08-23   54.869377  4.049360   -1.227880   18256100.0  68.912727       NaN\n",
            "2004-08-24   52.597363  7.657099   -5.726357   15247300.0  70.668146       NaN\n",
            "2004-08-25   53.164113  3.886792    1.183658    9188600.0  71.219849       NaN\n",
            "            Adj. Close  HL_PCT  PCT_Change  Adj. Volume  label     Forecast\n",
            "Date                                                                       \n",
            "2018-03-08         NaN     NaN         NaN          NaN    NaN  1111.665852\n",
            "2018-03-09         NaN     NaN         NaN          NaN    NaN  1066.630518\n",
            "2018-03-10         NaN     NaN         NaN          NaN    NaN  1038.741126\n",
            "2018-03-11         NaN     NaN         NaN          NaN    NaN  1066.972778\n",
            "2018-03-12         NaN     NaN         NaN          NaN    NaN  1013.040427\n"
          ],
          "name": "stdout"
        }
      ]
    },
    {
      "cell_type": "code",
      "metadata": {
        "id": "Myuans3tnL9m",
        "colab_type": "code",
        "colab": {
          "base_uri": "https://localhost:8080/",
          "height": 272
        },
        "outputId": "009470cf-01e9-48d0-8413-39475ed23db6"
      },
      "source": [
        "# plotting the graph\n",
        "\n",
        "df['Adj. Close'].plot()   # known prices\n",
        "df['Forecast'].plot()   # forecasted prices\n",
        "plt.legend(loc=4)   # location of the legend on the graph is given by loc\n",
        "plt.xlabel('Date')\n",
        "plt.ylabel('Price')\n",
        "plt.show()"
      ],
      "execution_count": 11,
      "outputs": [
        {
          "output_type": "display_data",
          "data": {
            "image/png": "[encoded data removed]",
            "text/plain": [
              "<Figure size 432x288 with 1 Axes>"
            ]
          },
          "metadata": {
            "tags": []
          }
        }
      ]
    }
  ]
}