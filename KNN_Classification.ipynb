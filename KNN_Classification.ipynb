{
  "nbformat": 4,
  "nbformat_minor": 0,
  "metadata": {
    "colab": {
      "name": "KNN-Classification.ipynb",
      "provenance": [],
      "authorship_tag": "ABX9TyOy+xi6PM1OoxBla+I3TR1D",
      "include_colab_link": true
    },
    "kernelspec": {
      "name": "python3",
      "display_name": "Python 3"
    }
  },
  "cells": [
    {
      "cell_type": "markdown",
      "metadata": {
        "id": "view-in-github",
        "colab_type": "text"
      },
      "source": [
        "<a href=\"https://colab.research.google.com/github/DinDev3/Python-Machine-Learning/blob/master/KNN_Classification.ipynb\" target=\"_parent\"><img src=\"https://colab.research.google.com/assets/colab-badge.svg\" alt=\"Open In Colab\"/></a>"
      ]
    },
    {
      "cell_type": "markdown",
      "metadata": {
        "id": "JLJNzBKyWIcC",
        "colab_type": "text"
      },
      "source": [
        "# K Nearest Neighbors Classification\n",
        "\n",
        "A model that best divides the data is created."
      ]
    },
    {
      "cell_type": "code",
      "metadata": {
        "id": "xGveNUwJWOiH",
        "colab_type": "code",
        "colab": {}
      },
      "source": [
        "from google.colab import drive\n",
        "drive.mount('/content/gdrive')"
      ],
      "execution_count": null,
      "outputs": []
    },
    {
      "cell_type": "code",
      "metadata": {
        "id": "u-KdWy7psf9y",
        "colab_type": "code",
        "colab": {}
      },
      "source": [
        "import numpy as np\n",
        "from sklearn import preprocessing, neighbors\n",
        "from sklearn.model_selection import train_test_split\n",
        "import pandas as pd\n"
      ],
      "execution_count": 7,
      "outputs": []
    },
    {
      "cell_type": "markdown",
      "metadata": {
        "id": "dNlONzL23XLo",
        "colab_type": "text"
      },
      "source": [
        "## Feature Engineering"
      ]
    },
    {
      "cell_type": "code",
      "metadata": {
        "id": "S8_9kGN9tcgz",
        "colab_type": "code",
        "colab": {
          "base_uri": "https://localhost:8080/",
          "height": 158
        },
        "outputId": "17059f22-6bb4-455d-8cf1-049cfc028d71"
      },
      "source": [
        "# importing data file\n",
        "data_file_name = 'breast-cancer-wisconsin.data'\n",
        "data_file_path = F\"/content/gdrive/My Drive/Extra Learning/ML - Python/KNN-Classification/{data_file_name}\" \n",
        "\n",
        "df = pd.read_csv(data_file_path)\n",
        "print(df.head())\n",
        "\n",
        "df.replace('?', -99999, inplace=True)     # replacing ? with significantly irrelevant number to the dataset\n",
        "\n",
        "df.drop(['id'], 1, inplace=True)    # is has no effect on the result"
      ],
      "execution_count": 5,
      "outputs": [
        {
          "output_type": "stream",
          "text": [
            "        id  clump_thickness  unif_cell_size  ...  norm_nucleoli  mitoses  class\n",
            "0  1000025                5               1  ...              1        1      2\n",
            "1  1002945                5               4  ...              2        1      2\n",
            "2  1015425                3               1  ...              1        1      2\n",
            "3  1016277                6               8  ...              7        1      2\n",
            "4  1017023                4               1  ...              1        1      2\n",
            "\n",
            "[5 rows x 11 columns]\n"
          ],
          "name": "stdout"
        }
      ]
    },
    {
      "cell_type": "markdown",
      "metadata": {
        "id": "XQT3eUm-zkOO",
        "colab_type": "text"
      },
      "source": [
        "## Defining features, label and splitting data into Train & Test sets"
      ]
    },
    {
      "cell_type": "code",
      "metadata": {
        "id": "89QcAuRzzb9Q",
        "colab_type": "code",
        "colab": {}
      },
      "source": [
        "X = np.array(df.drop(['class'], 1))   # features\n",
        "y = np.array(df['class'])     # label\n",
        "\n",
        "# splitting Train & Test data\n",
        "X_train, X_test, y_train, y_test = train_test_split(X, y, test_size=0.2)   # 20% test set"
      ],
      "execution_count": 8,
      "outputs": []
    },
    {
      "cell_type": "markdown",
      "metadata": {
        "id": "0mtEo9M43ELh",
        "colab_type": "text"
      },
      "source": [
        "## Creating and testing the Classifier"
      ]
    },
    {
      "cell_type": "code",
      "metadata": {
        "id": "EwnBWM2J1YNZ",
        "colab_type": "code",
        "colab": {
          "base_uri": "https://localhost:8080/",
          "height": 34
        },
        "outputId": "ad1819d1-569e-4eb6-d42f-854b33c1af78"
      },
      "source": [
        "clf = neighbors.KNeighborsClassifier()\n",
        "clf.fit(X_train, y_train)\n",
        "\n",
        "accuracy = clf.score(X_test, y_test)\n",
        "print(accuracy)"
      ],
      "execution_count": 9,
      "outputs": [
        {
          "output_type": "stream",
          "text": [
            "0.9857142857142858\n"
          ],
          "name": "stdout"
        }
      ]
    },
    {
      "cell_type": "markdown",
      "metadata": {
        "id": "TMuzJc4x3uvR",
        "colab_type": "text"
      },
      "source": [
        "## Predicting"
      ]
    },
    {
      "cell_type": "code",
      "metadata": {
        "id": "PO9-LWZE3ypB",
        "colab_type": "code",
        "colab": {
          "base_uri": "https://localhost:8080/",
          "height": 34
        },
        "outputId": "8803ce65-cc92-4edf-d6b5-1ba325402823"
      },
      "source": [
        "# single data\n",
        "example_measures = np.array([4,2,1,1,1,2,3,2,1])\n",
        "example_measures = example_measures.reshape(1, -1)    # scikit learn classifier wants this shape\n",
        "\n",
        "# multiple data\n",
        "# example_measures = np.array([[4,2,1,1,1,2,3,2,1],[4,2,1,2,2,2,3,2,1]])\n",
        "# example_measures = example_measures.reshape(len(example_measures), -1)    # scikit learn classifier wants this shape\n",
        "\n",
        "prediction = clf.predict(example_measures)\n",
        "print(prediction)"
      ],
      "execution_count": 17,
      "outputs": [
        {
          "output_type": "stream",
          "text": [
            "[2]\n"
          ],
          "name": "stdout"
        }
      ]
    }
  ]
}