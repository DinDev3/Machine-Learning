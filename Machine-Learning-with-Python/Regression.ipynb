{
  "nbformat": 4,
  "nbformat_minor": 0,
  "metadata": {
    "colab": {
      "name": "Regression.ipynb",
      "provenance": [],
      "authorship_tag": "ABX9TyOwtTVUw10aXrAn846fVc/3",
      "include_colab_link": true
    },
    "kernelspec": {
      "name": "python3",
      "display_name": "Python 3"
    }
  },
  "cells": [
    {
      "cell_type": "markdown",
      "metadata": {
        "id": "view-in-github",
        "colab_type": "text"
      },
      "source": [
        "<a href=\"https://colab.research.google.com/github/DinDev3/Python-Machine-Learning/blob/master/Machine-Learning-with-Python/Regression.ipynb\" target=\"_parent\"><img src=\"https://colab.research.google.com/assets/colab-badge.svg\" alt=\"Open In Colab\"/></a>"
      ]
    },
    {
      "cell_type": "markdown",
      "metadata": {
        "id": "IxUi0qvmHtRT",
        "colab_type": "text"
      },
      "source": [
        "# Linear Regression\n",
        "\n",
        "Install packages\n",
        "- pip install sklearn\n",
        "- pip install pandas\n",
        "- pip install quandl\n",
        "\n",
        "---\n",
        "Stock Prices\n"
      ]
    },
    {
      "cell_type": "code",
      "metadata": {
        "id": "eVVxqio5JMge",
        "colab_type": "code",
        "colab": {}
      },
      "source": [
        "# !pip --version\n",
        "# !pip install --upgrade pip\n",
        "!pip install sklearn\n",
        "!pip install pandas\n",
        "!pip install quandl"
      ],
      "execution_count": 0,
      "outputs": []
    },
    {
      "cell_type": "code",
      "metadata": {
        "id": "8hixfEwwIIsR",
        "colab_type": "code",
        "colab": {}
      },
      "source": [
        "import pandas as pd\n",
        "import quandl\n",
        "import math"
      ],
      "execution_count": 0,
      "outputs": []
    },
    {
      "cell_type": "code",
      "metadata": {
        "id": "CXKZp9J0M96_",
        "colab_type": "code",
        "colab": {
          "base_uri": "https://localhost:8080/",
          "height": 175
        },
        "outputId": "f9c5bbc1-73fa-413d-ed82-7edefc793494"
      },
      "source": [
        "# storing the tabled data received from quandl in a pandas dataframe\n",
        "df = quandl.get(\"WIKI/GOOGL\")       # https://www.quandl.com/\n",
        "\n",
        "print(df.head())"
      ],
      "execution_count": 20,
      "outputs": [
        {
          "output_type": "stream",
          "text": [
            "              Open    High     Low  ...   Adj. Low  Adj. Close  Adj. Volume\n",
            "Date                                ...                                    \n",
            "2004-08-19  100.01  104.06   95.96  ...  48.128568   50.322842   44659000.0\n",
            "2004-08-20  101.01  109.08  100.50  ...  50.405597   54.322689   22834300.0\n",
            "2004-08-23  110.76  113.48  109.05  ...  54.693835   54.869377   18256100.0\n",
            "2004-08-24  111.24  111.60  103.57  ...  51.945350   52.597363   15247300.0\n",
            "2004-08-25  104.76  108.00  103.88  ...  52.100830   53.164113    9188600.0\n",
            "\n",
            "[5 rows x 12 columns]\n"
          ],
          "name": "stdout"
        }
      ]
    },
    {
      "cell_type": "markdown",
      "metadata": {
        "id": "veftqBrLNlh8",
        "colab_type": "text"
      },
      "source": [
        "Each column is a feature here.\n",
        "\n",
        "All these columns aren't needed to find a pattern.\n",
        "\n",
        "Relationships between features can be identified in Deep learning, but not in Regression.\n",
        "\n",
        "We want to keep only meaningful features."
      ]
    },
    {
      "cell_type": "code",
      "metadata": {
        "id": "f7ksGevoNiDj",
        "colab_type": "code",
        "colab": {
          "base_uri": "https://localhost:8080/",
          "height": 140
        },
        "outputId": "8a6d5cbb-d558-4fea-eb01-3ff7218bdcd5"
      },
      "source": [
        "# creating a long list of columns that we want to have\n",
        "# recreating the dataframe to contain only the mentioned columns\n",
        "df = df[['Adj. Open', 'Adj. High','Adj. Low','Adj. Close','Adj. Volume']]\n",
        "\n",
        "# print(df.head())\n",
        "\n",
        "# defining special relationships, to use as features\n",
        "df['HL_PCT'] = (df['Adj. High'] - df['Adj. Low']) / df['Adj. Close'] * 100\n",
        "df['PCT_Change'] = (df['Adj. Close'] - df['Adj. Open']) / df['Adj. Open'] * 100\n",
        "\n",
        "# creating a new dataframe with the special features\n",
        "df = df[['Adj. Close','HL_PCT','PCT_Change','Adj. Volume']]\n",
        "\n",
        "print(df.head())\n"
      ],
      "execution_count": 25,
      "outputs": [
        {
          "output_type": "stream",
          "text": [
            "            Adj. Close    HL_PCT  PCT_Change  Adj. Volume\n",
            "Date                                                     \n",
            "2004-08-19   50.322842  8.072956    0.324968   44659000.0\n",
            "2004-08-20   54.322689  7.921706    7.227007   22834300.0\n",
            "2004-08-23   54.869377  4.049360   -1.227880   18256100.0\n",
            "2004-08-24   52.597363  7.657099   -5.726357   15247300.0\n",
            "2004-08-25   53.164113  3.886792    1.183658    9188600.0\n"
          ],
          "name": "stdout"
        }
      ]
    },
    {
      "cell_type": "markdown",
      "metadata": {
        "id": "hkJdNXqoRW_F",
        "colab_type": "text"
      },
      "source": [
        "Features are kind of like attributes that make up the label.\n",
        "The label is a prediction"
      ]
    },
    {
      "cell_type": "code",
      "metadata": {
        "id": "LcITedePOROo",
        "colab_type": "code",
        "colab": {
          "base_uri": "https://localhost:8080/",
          "height": 263
        },
        "outputId": "111924f0-39c6-4ff4-808e-6774eeb335ae"
      },
      "source": [
        "# what is needed to be predicted (The column)\n",
        "forecast_col = 'Adj. Close'\n",
        "\n",
        "# fill up empty coloums(columns that don't have numbers)\n",
        "df.fillna(-99999, inplace=True)\n",
        "\n",
        "# math.ceil => round a number to the nearest whole number\n",
        "# try to predict 1% of the dataframe\n",
        "forecast_out = int(math.ceil(0.01*len(df)))\n",
        "\n",
        "# will be using data that came 1% days ago to predict today ??\n",
        "\n",
        "df['label'] = df[forecast_col].shift(-forecast_out)\n",
        "# shifting the columns negatively (shifting columns up the spreadsheet)\n",
        "# this way the forecast_col will take an Adj. Close which is 1% days into the future\n",
        "\n",
        "print(df.head())\n",
        "\n",
        "# df.dropna() => Drop the rows where at least one element is missing.\n",
        "# (inplace=True) => Keep the DataFrame with valid entries in the same variable.\n",
        "df.dropna(inplace=True)\n",
        "print(df.tail())"
      ],
      "execution_count": 31,
      "outputs": [
        {
          "output_type": "stream",
          "text": [
            "            Adj. Close    HL_PCT  PCT_Change  Adj. Volume      label\n",
            "Date                                                                \n",
            "2004-08-19   50.322842  8.072956    0.324968   44659000.0  67.739104\n",
            "2004-08-20   54.322689  7.921706    7.227007   22834300.0  69.399229\n",
            "2004-08-23   54.869377  4.049360   -1.227880   18256100.0  68.752232\n",
            "2004-08-24   52.597363  7.657099   -5.726357   15247300.0  69.639972\n",
            "2004-08-25   53.164113  3.886792    1.183658    9188600.0  69.078238\n",
            "            Adj. Close    HL_PCT  PCT_Change  Adj. Volume   label\n",
            "Date                                                             \n",
            "2016-09-22      815.95  1.391017    0.734568    1759290.0  781.10\n",
            "2016-09-23      814.96  0.523952   -0.022082    1411673.0  802.03\n",
            "2016-09-26      802.65  1.199776   -0.885382    1472732.0  811.98\n",
            "2016-09-27      810.73  1.438210    1.109961    1367271.0  805.59\n",
            "2016-09-28      810.06  0.922117    0.743707    1470280.0  780.29\n"
          ],
          "name": "stdout"
        }
      ]
    },
    {
      "cell_type": "markdown",
      "metadata": {
        "id": "XNOmu1_pUKiY",
        "colab_type": "text"
      },
      "source": [
        "In ML, can't work with NA(Not available/ no numbers) data.\n",
        "\n",
        "They need to be replaced with something.\n",
        "Or get rid of an entire row (not that good in the real world, we'll be loosing data).\n",
        "\n",
        "\n",
        "---\n",
        "\n",
        "This is using the previous 1% of days from the entire dataset to predict the Adj. Close of a day (which is 1% of days into the future)\n",
        "\n"
      ]
    }
  ]
}