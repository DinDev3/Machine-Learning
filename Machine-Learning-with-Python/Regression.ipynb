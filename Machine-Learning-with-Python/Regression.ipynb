{
  "nbformat": 4,
  "nbformat_minor": 0,
  "metadata": {
    "colab": {
      "name": "Regression.ipynb",
      "provenance": [],
      "authorship_tag": "ABX9TyN+TsCYxbHlhBAFB886SSll",
      "include_colab_link": true
    },
    "kernelspec": {
      "name": "python3",
      "display_name": "Python 3"
    }
  },
  "cells": [
    {
      "cell_type": "markdown",
      "metadata": {
        "id": "view-in-github",
        "colab_type": "text"
      },
      "source": [
        "<a href=\"https://colab.research.google.com/github/DinDev3/Python-Machine-Learning/blob/master/Machine-Learning-with-Python/Regression.ipynb\" target=\"_parent\"><img src=\"https://colab.research.google.com/assets/colab-badge.svg\" alt=\"Open In Colab\"/></a>"
      ]
    },
    {
      "cell_type": "markdown",
      "metadata": {
        "id": "IxUi0qvmHtRT",
        "colab_type": "text"
      },
      "source": [
        "# Linear Regression\n",
        "\n",
        "Install packages\n",
        "- pip install sklearn\n",
        "- pip install pandas\n",
        "- pip install quandl\n",
        "\n",
        "---\n",
        "Stock Prices\n"
      ]
    },
    {
      "cell_type": "code",
      "metadata": {
        "id": "eVVxqio5JMge",
        "colab_type": "code",
        "colab": {}
      },
      "source": [
        "# !pip --version\n",
        "# !pip install --upgrade pip\n",
        "!pip install sklearn\n",
        "!pip install pandas\n",
        "!pip install quandl"
      ],
      "execution_count": 0,
      "outputs": []
    },
    {
      "cell_type": "code",
      "metadata": {
        "id": "8hixfEwwIIsR",
        "colab_type": "code",
        "colab": {}
      },
      "source": [
        "import pandas as pd\n",
        "import quandl\n",
        "import math\n",
        "import numpy as np\n",
        "from sklearn import preprocessing, svm\n",
        "from sklearn.model_selection import train_test_split\n",
        "from sklearn.linear_model import LinearRegression"
      ],
      "execution_count": 0,
      "outputs": []
    },
    {
      "cell_type": "code",
      "metadata": {
        "id": "CXKZp9J0M96_",
        "colab_type": "code",
        "outputId": "3811d983-b08d-4acb-bc3b-a513ad332b03",
        "colab": {
          "base_uri": "https://localhost:8080/",
          "height": 175
        }
      },
      "source": [
        "# storing the tabled data received from quandl in a pandas dataframe\n",
        "df = quandl.get(\"WIKI/GOOGL\")       # https://www.quandl.com/\n",
        "\n",
        "print(df.head())"
      ],
      "execution_count": 8,
      "outputs": [
        {
          "output_type": "stream",
          "text": [
            "              Open    High     Low  ...   Adj. Low  Adj. Close  Adj. Volume\n",
            "Date                                ...                                    \n",
            "2004-08-19  100.01  104.06   95.96  ...  48.128568   50.322842   44659000.0\n",
            "2004-08-20  101.01  109.08  100.50  ...  50.405597   54.322689   22834300.0\n",
            "2004-08-23  110.76  113.48  109.05  ...  54.693835   54.869377   18256100.0\n",
            "2004-08-24  111.24  111.60  103.57  ...  51.945350   52.597363   15247300.0\n",
            "2004-08-25  104.76  108.00  103.88  ...  52.100830   53.164113    9188600.0\n",
            "\n",
            "[5 rows x 12 columns]\n"
          ],
          "name": "stdout"
        }
      ]
    },
    {
      "cell_type": "markdown",
      "metadata": {
        "id": "veftqBrLNlh8",
        "colab_type": "text"
      },
      "source": [
        "## Feature Engineering\n",
        "Each column is a feature here.\n",
        "\n",
        "All these columns aren't needed to find a pattern.\n",
        "\n",
        "Relationships between features can be identified in Deep learning, but not in Regression.\n",
        "\n",
        "We want to keep only meaningful features."
      ]
    },
    {
      "cell_type": "code",
      "metadata": {
        "id": "f7ksGevoNiDj",
        "colab_type": "code",
        "outputId": "c64feb52-7c7c-4892-8c05-84ee32abb50b",
        "colab": {
          "base_uri": "https://localhost:8080/",
          "height": 140
        }
      },
      "source": [
        "# creating a long list of columns that we want to have\n",
        "# recreating the dataframe to contain only the mentioned columns\n",
        "df = df[['Adj. Open', 'Adj. High','Adj. Low','Adj. Close','Adj. Volume']]\n",
        "\n",
        "# print(df.head())\n",
        "\n",
        "# defining special relationships, to use as features\n",
        "df['HL_PCT'] = (df['Adj. High'] - df['Adj. Low']) / df['Adj. Close'] * 100\n",
        "df['PCT_Change'] = (df['Adj. Close'] - df['Adj. Open']) / df['Adj. Open'] * 100\n",
        "\n",
        "# creating a new dataframe with the special features\n",
        "df = df[['Adj. Close','HL_PCT','PCT_Change','Adj. Volume']]\n",
        "\n",
        "print(df.head())\n"
      ],
      "execution_count": 9,
      "outputs": [
        {
          "output_type": "stream",
          "text": [
            "            Adj. Close    HL_PCT  PCT_Change  Adj. Volume\n",
            "Date                                                     \n",
            "2004-08-19   50.322842  8.072956    0.324968   44659000.0\n",
            "2004-08-20   54.322689  7.921706    7.227007   22834300.0\n",
            "2004-08-23   54.869377  4.049360   -1.227880   18256100.0\n",
            "2004-08-24   52.597363  7.657099   -5.726357   15247300.0\n",
            "2004-08-25   53.164113  3.886792    1.183658    9188600.0\n"
          ],
          "name": "stdout"
        }
      ]
    },
    {
      "cell_type": "markdown",
      "metadata": {
        "id": "hkJdNXqoRW_F",
        "colab_type": "text"
      },
      "source": [
        "Features are kind of like attributes that make up the label.\n",
        "The label is a prediction"
      ]
    },
    {
      "cell_type": "code",
      "metadata": {
        "id": "LcITedePOROo",
        "colab_type": "code",
        "outputId": "eaae39a5-09e8-4900-8ce7-3c6939adce52",
        "colab": {
          "base_uri": "https://localhost:8080/",
          "height": 158
        }
      },
      "source": [
        "# what is needed to be predicted (The column)\n",
        "forecast_col = 'Adj. Close'\n",
        "\n",
        "# fill up empty coloums(columns that don't have numbers)\n",
        "df.fillna(-99999, inplace=True)\n",
        "\n",
        "# math.ceil => round a number to the nearest whole number\n",
        "# try to predict 1% of the dataframe\n",
        "forecast_out = int(math.ceil(0.01*len(df)))\n",
        "print(forecast_out)     # number of days used to predict\n",
        "\n",
        "# will be using data that came 1% days ago to predict today ??\n",
        "\n",
        "df['label'] = df[forecast_col].shift(-forecast_out)\n",
        "# shifting the columns negatively (shifting columns up the spreadsheet)\n",
        "# this way the forecast_col will take an Adj. Close which is 1% days into the future\n",
        "\n",
        "print(df.head())\n",
        "\n",
        "# df.dropna() => Drop the rows where at least one element is missing.\n",
        "#       - This is done after splitting the to be predicted features set\n",
        "# (inplace=True) => Keep the DataFrame with valid entries in the same variable.\n",
        "# df.dropna(inplace=True)\n",
        "# print(df.tail())"
      ],
      "execution_count": 51,
      "outputs": [
        {
          "output_type": "stream",
          "text": [
            "33\n",
            "            Adj. Close    HL_PCT  PCT_Change  Adj. Volume      label\n",
            "Date                                                                \n",
            "2004-08-19   50.322842  8.072956    0.324968   44659000.0  68.752232\n",
            "2004-08-20   54.322689  7.921706    7.227007   22834300.0  69.639972\n",
            "2004-08-23   54.869377  4.049360   -1.227880   18256100.0  69.078238\n",
            "2004-08-24   52.597363  7.657099   -5.726357   15247300.0  67.839414\n",
            "2004-08-25   53.164113  3.886792    1.183658    9188600.0  68.912727\n"
          ],
          "name": "stdout"
        }
      ]
    },
    {
      "cell_type": "markdown",
      "metadata": {
        "id": "XNOmu1_pUKiY",
        "colab_type": "text"
      },
      "source": [
        "In ML, can't work with NA(Not available/ no numbers) data.\n",
        "\n",
        "They need to be replaced with something.\n",
        "Or get rid of an entire row (not that good in the real world, we'll be loosing data).\n",
        "\n",
        "\n",
        "---\n",
        "\n",
        "This is using the previous 1% of days from the entire dataset to predict the Adj. Close of a day (which is 1% of days into the future)\n",
        "\n"
      ]
    },
    {
      "cell_type": "markdown",
      "metadata": {
        "id": "qCIErxnIQQtz",
        "colab_type": "text"
      },
      "source": [
        "## Defining Training & Testing data"
      ]
    },
    {
      "cell_type": "code",
      "metadata": {
        "id": "48Dgnv2zC3gr",
        "colab_type": "code",
        "colab": {
          "base_uri": "https://localhost:8080/",
          "height": 34
        },
        "outputId": "4043dac4-1bf6-4d1f-e7ab-14701a5539d6"
      },
      "source": [
        "# defining feature and label\n",
        "# feature\n",
        "X = np.array(df.drop(['label'],1))    # df.drop(['label'],1) returns a new dataframe without the label column\n",
        "\n",
        "\n",
        "# normalizing all the datapoints by scaling along-side all the other values\n",
        "# to help with training and testing\n",
        "# can be skipped for high frequency (trading), because processing time increases\n",
        "X = preprocessing.scale(X)\n",
        "\n",
        "\n",
        "X = X[:-forecast_out]    # X values that have y values (used for training & testing)\n",
        "X_lately = X[-forecast_out:]    # X values that don't have y (to be predicted)\n",
        "\n",
        "\n",
        "df.dropna(inplace=True)     # dropping the rows with missing columns\n",
        "\n",
        "# label\n",
        "y = np.array(df['label'])\n",
        "y = np.array(df['label'])\n",
        "\n",
        "print(len(X), len(y))     # making sure that X & y are equal\n",
        "\n",
        "X_train, X_test, y_train, y_test = train_test_split(X, y, test_size=0.2)\n"
      ],
      "execution_count": 52,
      "outputs": [
        {
          "output_type": "stream",
          "text": [
            "3188 3188\n"
          ],
          "name": "stdout"
        }
      ]
    },
    {
      "cell_type": "markdown",
      "metadata": {
        "id": "gyulJivqGhI3",
        "colab_type": "text"
      },
      "source": [
        "testing set size is 20% of the data\n",
        "\n",
        "spliting training and testing data\n"
      ]
    },
    {
      "cell_type": "markdown",
      "metadata": {
        "id": "luzz4c_uQhQJ",
        "colab_type": "text"
      },
      "source": [
        "## Training, Creating & Testing the ML Model"
      ]
    },
    {
      "cell_type": "code",
      "metadata": {
        "id": "bq4ChC51HzuM",
        "colab_type": "code",
        "outputId": "746af14f-a31f-41a9-99ea-c43840eef976",
        "colab": {
          "base_uri": "https://localhost:8080/",
          "height": 34
        }
      },
      "source": [
        "# fit the classifier\n",
        "\n",
        "# define classifier\n",
        "clf = LinearRegression()\n",
        "# training\n",
        "clf.fit(X_train, y_train)\n",
        "# testing\n",
        "accuracy = clf.score(X_test, y_test)\n",
        "\n",
        "print('accuracy: ',accuracy)"
      ],
      "execution_count": 53,
      "outputs": [
        {
          "output_type": "stream",
          "text": [
            "accuracy:  0.9721483221960195\n"
          ],
          "name": "stdout"
        }
      ]
    },
    {
      "cell_type": "markdown",
      "metadata": {
        "id": "8bHxtdhGMsTp",
        "colab_type": "text"
      },
      "source": [
        "```\n",
        "clf = svm.SVR()\n",
        "```\n",
        "can be used instead of the LinearRegression() classifier, to use the Support Vector Regression algorithm.\n",
        "\n",
        "---\n",
        "\n",
        "```\n",
        "clf = LinearRegression(n_jobs=10)\n",
        "```\n",
        "n_jobs can be used to increase parallel processing (threading), to make training faster. It's set to 1 by default.\n"
      ]
    },
    {
      "cell_type": "markdown",
      "metadata": {
        "id": "ktS4L7F4U6PD",
        "colab_type": "text"
      },
      "source": [
        "## Predicting"
      ]
    },
    {
      "cell_type": "code",
      "metadata": {
        "id": "pxR1SjuAU5R1",
        "colab_type": "code",
        "colab": {
          "base_uri": "https://localhost:8080/",
          "height": 140
        },
        "outputId": "8c226f8e-ee30-4ea2-ef60-be189c71cd45"
      },
      "source": [
        "forecast_set = clf.predict(X_lately)\n",
        "\n",
        "print(forecast_set, accuracy, forecast_out)"
      ],
      "execution_count": 54,
      "outputs": [
        {
          "output_type": "stream",
          "text": [
            "[865.47267064 864.86429191 862.87110262 866.75315265 869.49198916\n",
            " 873.390019   877.1629625  880.39784851 881.67601508 884.0117769\n",
            " 886.01557414 888.12199098 883.75242766 863.8368939  865.28073442\n",
            " 854.50204564 849.73247844 852.82860567 855.53558665 865.09665431\n",
            " 865.38764367 863.61583866 871.77011395 868.30937145 863.85780103\n",
            " 860.41317528 857.59227941 857.42943141 855.2453379  857.12186284\n",
            " 855.90448405 870.04988988 869.82020967] 0.9721483221960195 33\n"
          ],
          "name": "stdout"
        }
      ]
    },
    {
      "cell_type": "markdown",
      "metadata": {
        "id": "LnjK0gjFW-H2",
        "colab_type": "text"
      },
      "source": [
        "```\n",
        "clf.predict()\n",
        "```\n",
        "Can make a prediction per value of an array/ can predict for one value\n",
        "\n",
        "---\n",
        "The stock prices for the next 1% of the days (33 days) are predicted\n",
        "\n"
      ]
    }
  ]
}