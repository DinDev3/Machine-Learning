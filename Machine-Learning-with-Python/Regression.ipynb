{
  "nbformat": 4,
  "nbformat_minor": 0,
  "metadata": {
    "colab": {
      "name": "Regression.ipynb",
      "provenance": [],
      "authorship_tag": "ABX9TyMwKdng/6Hba43LFP1etzzX",
      "include_colab_link": true
    },
    "kernelspec": {
      "name": "python3",
      "display_name": "Python 3"
    }
  },
  "cells": [
    {
      "cell_type": "markdown",
      "metadata": {
        "id": "view-in-github",
        "colab_type": "text"
      },
      "source": [
        "<a href=\"https://colab.research.google.com/github/DinDev3/Python-Machine-Learning/blob/master/Machine-Learning-with-Python/Regression.ipynb\" target=\"_parent\"><img src=\"https://colab.research.google.com/assets/colab-badge.svg\" alt=\"Open In Colab\"/></a>"
      ]
    },
    {
      "cell_type": "markdown",
      "metadata": {
        "id": "IxUi0qvmHtRT",
        "colab_type": "text"
      },
      "source": [
        "# Linear Regression\n",
        "\n",
        "Install packages\n",
        "- pip install sklearn\n",
        "- pip install pandas\n",
        "- pip install quandl\n",
        "\n",
        "---\n",
        "Stock Prices\n"
      ]
    },
    {
      "cell_type": "code",
      "metadata": {
        "id": "eVVxqio5JMge",
        "colab_type": "code",
        "colab": {
          "base_uri": "https://localhost:8080/",
          "height": 512
        },
        "outputId": "9b297c1d-3506-4d03-8033-df7675647419"
      },
      "source": [
        "# !pip --version\n",
        "# !pip install --upgrade pip\n",
        "!pip install sklearn\n",
        "!pip install pandas\n",
        "!pip install quandl"
      ],
      "execution_count": 2,
      "outputs": [
        {
          "output_type": "stream",
          "text": [
            "Requirement already satisfied: sklearn in /usr/local/lib/python3.6/dist-packages (0.0)\n",
            "Requirement already satisfied: scikit-learn in /usr/local/lib/python3.6/dist-packages (from sklearn) (0.22.2.post1)\n",
            "Requirement already satisfied: numpy>=1.11.0 in /usr/local/lib/python3.6/dist-packages (from scikit-learn->sklearn) (1.18.4)\n",
            "Requirement already satisfied: joblib>=0.11 in /usr/local/lib/python3.6/dist-packages (from scikit-learn->sklearn) (0.15.1)\n",
            "Requirement already satisfied: scipy>=0.17.0 in /usr/local/lib/python3.6/dist-packages (from scikit-learn->sklearn) (1.4.1)\n",
            "Requirement already satisfied: pandas in /usr/local/lib/python3.6/dist-packages (1.0.3)\n",
            "Requirement already satisfied: numpy>=1.13.3 in /usr/local/lib/python3.6/dist-packages (from pandas) (1.18.4)\n",
            "Requirement already satisfied: pytz>=2017.2 in /usr/local/lib/python3.6/dist-packages (from pandas) (2018.9)\n",
            "Requirement already satisfied: python-dateutil>=2.6.1 in /usr/local/lib/python3.6/dist-packages (from pandas) (2.8.1)\n",
            "Requirement already satisfied: six>=1.5 in /usr/local/lib/python3.6/dist-packages (from python-dateutil>=2.6.1->pandas) (1.12.0)\n",
            "Collecting quandl\n",
            "  Downloading https://files.pythonhosted.org/packages/07/ab/8cd479fba8a9b197a43a0d55dd534b066fb8e5a0a04b5c0384cbc5d663aa/Quandl-3.5.0-py2.py3-none-any.whl\n",
            "Requirement already satisfied: six in /usr/local/lib/python3.6/dist-packages (from quandl) (1.12.0)\n",
            "Requirement already satisfied: more-itertools in /usr/local/lib/python3.6/dist-packages (from quandl) (8.3.0)\n",
            "Requirement already satisfied: pandas>=0.14 in /usr/local/lib/python3.6/dist-packages (from quandl) (1.0.3)\n",
            "Requirement already satisfied: python-dateutil in /usr/local/lib/python3.6/dist-packages (from quandl) (2.8.1)\n",
            "Requirement already satisfied: numpy>=1.8 in /usr/local/lib/python3.6/dist-packages (from quandl) (1.18.4)\n",
            "Collecting inflection>=0.3.1\n",
            "  Downloading https://files.pythonhosted.org/packages/52/c1/36be286d85dbd76527fb613527222a795d7c071da195fa916e7bf3cb03cb/inflection-0.4.0-py2.py3-none-any.whl\n",
            "Requirement already satisfied: requests>=2.7.0 in /usr/local/lib/python3.6/dist-packages (from quandl) (2.23.0)\n",
            "Requirement already satisfied: pytz>=2017.2 in /usr/local/lib/python3.6/dist-packages (from pandas>=0.14->quandl) (2018.9)\n",
            "Requirement already satisfied: idna<3,>=2.5 in /usr/local/lib/python3.6/dist-packages (from requests>=2.7.0->quandl) (2.9)\n",
            "Requirement already satisfied: chardet<4,>=3.0.2 in /usr/local/lib/python3.6/dist-packages (from requests>=2.7.0->quandl) (3.0.4)\n",
            "Requirement already satisfied: certifi>=2017.4.17 in /usr/local/lib/python3.6/dist-packages (from requests>=2.7.0->quandl) (2020.4.5.1)\n",
            "Requirement already satisfied: urllib3!=1.25.0,!=1.25.1,<1.26,>=1.21.1 in /usr/local/lib/python3.6/dist-packages (from requests>=2.7.0->quandl) (1.24.3)\n",
            "Installing collected packages: inflection, quandl\n",
            "Successfully installed inflection-0.4.0 quandl-3.5.0\n"
          ],
          "name": "stdout"
        }
      ]
    },
    {
      "cell_type": "code",
      "metadata": {
        "id": "8hixfEwwIIsR",
        "colab_type": "code",
        "colab": {}
      },
      "source": [
        "import pandas as pd\n",
        "import quandl\n",
        "import math\n",
        "import numpy as np\n",
        "from sklearn import preprocessing, svm\n",
        "from sklearn.model_selection import train_test_split\n",
        "from sklearn.linear_model import LinearRegression"
      ],
      "execution_count": 0,
      "outputs": []
    },
    {
      "cell_type": "code",
      "metadata": {
        "id": "CXKZp9J0M96_",
        "colab_type": "code",
        "outputId": "3811d983-b08d-4acb-bc3b-a513ad332b03",
        "colab": {
          "base_uri": "https://localhost:8080/",
          "height": 175
        }
      },
      "source": [
        "# storing the tabled data received from quandl in a pandas dataframe\n",
        "df = quandl.get(\"WIKI/GOOGL\")       # https://www.quandl.com/\n",
        "\n",
        "print(df.head())"
      ],
      "execution_count": 8,
      "outputs": [
        {
          "output_type": "stream",
          "text": [
            "              Open    High     Low  ...   Adj. Low  Adj. Close  Adj. Volume\n",
            "Date                                ...                                    \n",
            "2004-08-19  100.01  104.06   95.96  ...  48.128568   50.322842   44659000.0\n",
            "2004-08-20  101.01  109.08  100.50  ...  50.405597   54.322689   22834300.0\n",
            "2004-08-23  110.76  113.48  109.05  ...  54.693835   54.869377   18256100.0\n",
            "2004-08-24  111.24  111.60  103.57  ...  51.945350   52.597363   15247300.0\n",
            "2004-08-25  104.76  108.00  103.88  ...  52.100830   53.164113    9188600.0\n",
            "\n",
            "[5 rows x 12 columns]\n"
          ],
          "name": "stdout"
        }
      ]
    },
    {
      "cell_type": "markdown",
      "metadata": {
        "id": "veftqBrLNlh8",
        "colab_type": "text"
      },
      "source": [
        "## Feature Engineering\n",
        "Each column is a feature here.\n",
        "\n",
        "All these columns aren't needed to find a pattern.\n",
        "\n",
        "Relationships between features can be identified in Deep learning, but not in Regression.\n",
        "\n",
        "We want to keep only meaningful features."
      ]
    },
    {
      "cell_type": "code",
      "metadata": {
        "id": "f7ksGevoNiDj",
        "colab_type": "code",
        "outputId": "c64feb52-7c7c-4892-8c05-84ee32abb50b",
        "colab": {
          "base_uri": "https://localhost:8080/",
          "height": 140
        }
      },
      "source": [
        "# creating a long list of columns that we want to have\n",
        "# recreating the dataframe to contain only the mentioned columns\n",
        "df = df[['Adj. Open', 'Adj. High','Adj. Low','Adj. Close','Adj. Volume']]\n",
        "\n",
        "# print(df.head())\n",
        "\n",
        "# defining special relationships, to use as features\n",
        "df['HL_PCT'] = (df['Adj. High'] - df['Adj. Low']) / df['Adj. Close'] * 100\n",
        "df['PCT_Change'] = (df['Adj. Close'] - df['Adj. Open']) / df['Adj. Open'] * 100\n",
        "\n",
        "# creating a new dataframe with the special features\n",
        "df = df[['Adj. Close','HL_PCT','PCT_Change','Adj. Volume']]\n",
        "\n",
        "print(df.head())\n"
      ],
      "execution_count": 9,
      "outputs": [
        {
          "output_type": "stream",
          "text": [
            "            Adj. Close    HL_PCT  PCT_Change  Adj. Volume\n",
            "Date                                                     \n",
            "2004-08-19   50.322842  8.072956    0.324968   44659000.0\n",
            "2004-08-20   54.322689  7.921706    7.227007   22834300.0\n",
            "2004-08-23   54.869377  4.049360   -1.227880   18256100.0\n",
            "2004-08-24   52.597363  7.657099   -5.726357   15247300.0\n",
            "2004-08-25   53.164113  3.886792    1.183658    9188600.0\n"
          ],
          "name": "stdout"
        }
      ]
    },
    {
      "cell_type": "markdown",
      "metadata": {
        "id": "hkJdNXqoRW_F",
        "colab_type": "text"
      },
      "source": [
        "Features are kind of like attributes that make up the label.\n",
        "The label is a prediction"
      ]
    },
    {
      "cell_type": "code",
      "metadata": {
        "id": "LcITedePOROo",
        "colab_type": "code",
        "outputId": "3eedaace-52e1-402f-b8ce-ce0a94f1b6d1",
        "colab": {
          "base_uri": "https://localhost:8080/",
          "height": 263
        }
      },
      "source": [
        "# what is needed to be predicted (The column)\n",
        "forecast_col = 'Adj. Close'\n",
        "\n",
        "# fill up empty coloums(columns that don't have numbers)\n",
        "df.fillna(-99999, inplace=True)\n",
        "\n",
        "# math.ceil => round a number to the nearest whole number\n",
        "# try to predict 1% of the dataframe\n",
        "forecast_out = int(math.ceil(0.01*len(df)))\n",
        "\n",
        "# will be using data that came 1% days ago to predict today ??\n",
        "\n",
        "df['label'] = df[forecast_col].shift(-forecast_out)\n",
        "# shifting the columns negatively (shifting columns up the spreadsheet)\n",
        "# this way the forecast_col will take an Adj. Close which is 1% days into the future\n",
        "\n",
        "print(df.head())\n",
        "\n",
        "# df.dropna() => Drop the rows where at least one element is missing.\n",
        "# (inplace=True) => Keep the DataFrame with valid entries in the same variable.\n",
        "df.dropna(inplace=True)\n",
        "print(df.tail())"
      ],
      "execution_count": 10,
      "outputs": [
        {
          "output_type": "stream",
          "text": [
            "            Adj. Close    HL_PCT  PCT_Change  Adj. Volume      label\n",
            "Date                                                                \n",
            "2004-08-19   50.322842  8.072956    0.324968   44659000.0  69.078238\n",
            "2004-08-20   54.322689  7.921706    7.227007   22834300.0  67.839414\n",
            "2004-08-23   54.869377  4.049360   -1.227880   18256100.0  68.912727\n",
            "2004-08-24   52.597363  7.657099   -5.726357   15247300.0  70.668146\n",
            "2004-08-25   53.164113  3.886792    1.183658    9188600.0  71.219849\n",
            "            Adj. Close    HL_PCT  PCT_Change  Adj. Volume    label\n",
            "Date                                                              \n",
            "2018-01-30     1177.37  1.139829   -0.029718    1792602.0  1094.00\n",
            "2018-01-31     1182.22  1.202822   -0.134312    1643877.0  1053.15\n",
            "2018-02-01     1181.59  1.530988    0.476195    2774967.0  1026.55\n",
            "2018-02-02     1119.20  1.798606   -0.729098    5798880.0  1054.09\n",
            "2018-02-05     1068.76  5.450241   -2.893850    3742469.0  1006.94\n"
          ],
          "name": "stdout"
        }
      ]
    },
    {
      "cell_type": "markdown",
      "metadata": {
        "id": "XNOmu1_pUKiY",
        "colab_type": "text"
      },
      "source": [
        "In ML, can't work with NA(Not available/ no numbers) data.\n",
        "\n",
        "They need to be replaced with something.\n",
        "Or get rid of an entire row (not that good in the real world, we'll be loosing data).\n",
        "\n",
        "\n",
        "---\n",
        "\n",
        "This is using the previous 1% of days from the entire dataset to predict the Adj. Close of a day (which is 1% of days into the future)\n",
        "\n"
      ]
    },
    {
      "cell_type": "code",
      "metadata": {
        "id": "48Dgnv2zC3gr",
        "colab_type": "code",
        "colab": {}
      },
      "source": [
        "# defining feature and label\n",
        "# feature\n",
        "X = np.array(df.drop(['label'],1))    # df.drop(['label'],1) returns a new dataframe without the label column\n",
        "# label\n",
        "y = np.array(df['label'])\n",
        "\n",
        "# normalizing all the datapoints by scaling along-side all the other values\n",
        "# to help with training and testing\n",
        "# can be skipped for high frequency (trading), because processing time increases\n",
        "X = preprocessing.scale(X)\n",
        "\n",
        "# print(len(X), len(y))     # making sure that X & y are equal\n",
        "\n",
        "X_train, X_test, y_train, y_test = train_test_split(X, y, test_size=0.2)\n"
      ],
      "execution_count": 0,
      "outputs": []
    },
    {
      "cell_type": "markdown",
      "metadata": {
        "id": "gyulJivqGhI3",
        "colab_type": "text"
      },
      "source": [
        "testing set size is 20% of the data\n",
        "\n",
        "spliting training and testing data\n"
      ]
    },
    {
      "cell_type": "code",
      "metadata": {
        "id": "bq4ChC51HzuM",
        "colab_type": "code",
        "colab": {}
      },
      "source": [
        ""
      ],
      "execution_count": 0,
      "outputs": []
    }
  ]
}