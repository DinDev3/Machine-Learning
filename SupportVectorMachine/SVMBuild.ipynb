{
  "nbformat": 4,
  "nbformat_minor": 0,
  "metadata": {
    "colab": {
      "name": "SVMBuild.ipynb",
      "provenance": [],
      "collapsed_sections": [],
      "authorship_tag": "ABX9TyMS5iJ25pZaVbbNbuYbrx+Q",
      "include_colab_link": true
    },
    "kernelspec": {
      "name": "python3",
      "display_name": "Python 3"
    }
  },
  "cells": [
    {
      "cell_type": "markdown",
      "metadata": {
        "id": "view-in-github",
        "colab_type": "text"
      },
      "source": [
        "<a href=\"https://colab.research.google.com/github/dinuka-rp/Python-Machine-Learning/blob/master/SupportVectorMachine/SVMBuild.ipynb\" target=\"_parent\"><img src=\"https://colab.research.google.com/assets/colab-badge.svg\" alt=\"Open In Colab\"/></a>"
      ]
    },
    {
      "cell_type": "markdown",
      "metadata": {
        "id": "TM5Alc4C5t9A"
      },
      "source": [
        "# Support Vector Machine - Build from Scratch\n",
        "## Classification\n"
      ]
    },
    {
      "cell_type": "code",
      "metadata": {
        "id": "FgQt3ehK5h4F"
      },
      "source": [
        "import matplotlib.pyplot as plt\n",
        "from matplotlib import style\n",
        "import numpy as np\n",
        "style.use('ggplot')"
      ],
      "execution_count": null,
      "outputs": []
    },
    {
      "cell_type": "code",
      "metadata": {
        "id": "mNka18oF--Co"
      },
      "source": [
        "class Support_Vector_Machine:\n",
        "  def __init__(self, visualization=True):\n",
        "    # initialization method\n",
        "    self.visualization = visualization\n",
        "    self.colors = {1: 'r', -1:'b'}\n",
        "    if self.visualization:\n",
        "      self.fig = plt.figure()\n",
        "      self.ax = self.fig.add_subplot(1,1,1)\n",
        "\n",
        "\n",
        "    # train\n",
        "    def fit(self, data):\n",
        "      self.data = data\n",
        "      # { ||w||: [w,b] }\n",
        "      opt_dict = {}\n",
        "\n",
        "      # step one by one\n",
        "      transforms = [[1,1],\n",
        "                    [-1,1],\n",
        "                    [-1,-1],\n",
        "                    [1,-1]]\n",
        "\n",
        "      # finding values to work with for our ranges.\n",
        "      all_data = []\n",
        "      for yi in self.data:\n",
        "          for featureset in self.data[yi]:\n",
        "              for feature in featureset:\n",
        "                all_data.append(feature)\n",
        "                # can use an if conditions to get max, min values comparative to previous values? - then no need to keep entire feature set in memory\n",
        "\n",
        "      self.max_feature_value = max(all_data)\n",
        "      self.min_feature_value = min(all_data)\n",
        "      all_data=None # no need to keep this memory.\n",
        "\n",
        "      step_sizes = [self.max_feature_value * 0.1,\n",
        "                    self.max_feature_value * 0.01,\n",
        "                    # starts getting very high cost after this.\n",
        "                    self.max_feature_value * 0.001]\n",
        "\n",
        "      # extremely expensive\n",
        "      b_range_multiple = 5\n",
        "      b_multiple = 5\n",
        "      latest_optimum = self.max_feature_value*10      # first place in vector w\n",
        "\n",
        "\n",
        "      for step in step_sizes:\n",
        "          w = np.array([latest_optimum,latest_optimum])\n",
        "          # we can do this because convex\n",
        "          optimized = False\n",
        "          while not optimized:\n",
        "            # arange allows to define step compared to range\n",
        "            for b in np.arange(-1 * (self.max_feature_value * b_range_multiple), self.max_feature_value * b_range_multiple, step * b_multiple):\n",
        "               for transformation in transforms:\n",
        "                        w_t = w * transformation\n",
        "                        found_option = True\n",
        "                        # weakest link in the SVM fundamentally\n",
        "                        # SMO attempts to fix this a bit\n",
        "                        # yi(xi.w+b) >= 1\n",
        "                        # \n",
        "                        # #### add a break here later..\n",
        "                        for i in self.data:\n",
        "                            for xi in self.data[i]:\n",
        "                                yi=i\n",
        "                                if not yi*(np.dot(w_t , xi) + b) >= 1:\n",
        "                                    found_option = False\n",
        "                                    # break   # non point in checking if atleast one is false\n",
        "                                    \n",
        "                        if found_option:\n",
        "                            opt_dict[np.linalg.norm(w_t)] = [w_t,b]\n",
        "\n",
        "\n",
        "              if w[0] < 0:\n",
        "                optimized = True\n",
        "                print('Optimized a step.')\n",
        "              else:\n",
        "                w = w - step\n",
        "\n",
        "\n",
        "          norms = sorted([n for n in opt_dict])\n",
        "          #||w|| : [w,b]\n",
        "          opt_choice = opt_dict[norms[0]]\n",
        "          self.w = opt_choice[0]\n",
        "          self.b = opt_choice[1]\n",
        "          latest_optimum = opt_choice[0][0]+step*2\n",
        "\n",
        "    def predict(self, features):\n",
        "      #  sign of ( x.w + b)\n",
        "      classification = np.sign(np.dot(np.array(features), self.w) + self.b)\n",
        "\n",
        "      return classification\n"
      ],
      "execution_count": null,
      "outputs": []
    },
    {
      "cell_type": "code",
      "metadata": {
        "id": "p7oCiJm8-cjH"
      },
      "source": [
        "data_dict = {-1:np.array([[1,7],\n",
        "                          [2,8],\n",
        "                          [3,8],]),\n",
        "             \n",
        "             1:np.array([[5,1],\n",
        "                         [6,-1],\n",
        "                         [7,3],])}"
      ],
      "execution_count": null,
      "outputs": []
    }
  ]
}