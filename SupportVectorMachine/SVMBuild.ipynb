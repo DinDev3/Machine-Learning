{
  "nbformat": 4,
  "nbformat_minor": 0,
  "metadata": {
    "colab": {
      "name": "SVMBuild.ipynb",
      "provenance": [],
      "collapsed_sections": [],
      "authorship_tag": "ABX9TyO4J+nEZW5KVIg2Ief0ImcM",
      "include_colab_link": true
    },
    "kernelspec": {
      "name": "python3",
      "display_name": "Python 3"
    }
  },
  "cells": [
    {
      "cell_type": "markdown",
      "metadata": {
        "id": "view-in-github",
        "colab_type": "text"
      },
      "source": [
        "<a href=\"https://colab.research.google.com/github/dinuka-rp/Python-Machine-Learning/blob/master/SupportVectorMachine/SVMBuild.ipynb\" target=\"_parent\"><img src=\"https://colab.research.google.com/assets/colab-badge.svg\" alt=\"Open In Colab\"/></a>"
      ]
    },
    {
      "cell_type": "markdown",
      "metadata": {
        "id": "TM5Alc4C5t9A"
      },
      "source": [
        "# Support Vector Machine - Build from Scratch\n",
        "## Classification\n"
      ]
    },
    {
      "cell_type": "code",
      "metadata": {
        "id": "FgQt3ehK5h4F"
      },
      "source": [
        "import matplotlib.pyplot as plt\n",
        "from matplotlib import style\n",
        "import numpy as np\n",
        "style.use('ggplot')"
      ],
      "execution_count": 1,
      "outputs": []
    },
    {
      "cell_type": "code",
      "metadata": {
        "id": "mNka18oF--Co"
      },
      "source": [
        "class Support_Vector_Machine:\n",
        "  def __init__(self, visualization=True):\n",
        "    # initialization method\n",
        "    self.visualization = visualization\n",
        "    self.colors = {1: 'r', -1:'b'}\n",
        "    if self.visualization:\n",
        "      self.fig = plt.figure()\n",
        "      self.ax = self.fig.add_subplot(1,1,1)\n",
        "\n",
        "\n",
        "    # train\n",
        "    def fit(self, data):\n",
        "      self.data = data\n",
        "      # { ||w||: [w,b] }\n",
        "      opt_dict = {}\n",
        "\n",
        "      # step one by one\n",
        "      transforms = [[1,1],\n",
        "                    [-1,1],\n",
        "                    [-1,-1],\n",
        "                    [1,-1]]\n",
        "\n",
        "    def predict(self, features):\n",
        "      #  sign of ( x.w + b)\n",
        "      classification = np.sign(np.dot(np.array(features), self.w) + self.b)\n",
        "\n",
        "      return classification\n"
      ],
      "execution_count": null,
      "outputs": []
    },
    {
      "cell_type": "code",
      "metadata": {
        "id": "p7oCiJm8-cjH"
      },
      "source": [
        "data_dict = {-1: np.array([[1,7], [2,8], [3,8]]),\n",
        "             1:np.array([[5,1],[6,-1],[7,3]])}"
      ],
      "execution_count": 2,
      "outputs": []
    }
  ]
}