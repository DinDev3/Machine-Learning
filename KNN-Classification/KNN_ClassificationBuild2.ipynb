{
  "nbformat": 4,
  "nbformat_minor": 0,
  "metadata": {
    "colab": {
      "name": "KNN-ClassificationBuild2.ipynb",
      "provenance": [],
      "collapsed_sections": [],
      "authorship_tag": "ABX9TyNIhMS/3sOOaDyXRUjaGlZn",
      "include_colab_link": true
    },
    "kernelspec": {
      "name": "python3",
      "display_name": "Python 3"
    }
  },
  "cells": [
    {
      "cell_type": "markdown",
      "metadata": {
        "id": "view-in-github",
        "colab_type": "text"
      },
      "source": [
        "<a href=\"https://colab.research.google.com/github/dinuka-rp/Python-Machine-Learning/blob/master/KNN_ClassificationBuild2.ipynb\" target=\"_parent\"><img src=\"https://colab.research.google.com/assets/colab-badge.svg\" alt=\"Open In Colab\"/></a>"
      ]
    },
    {
      "cell_type": "markdown",
      "metadata": {
        "id": "WH82hPhU7R4H"
      },
      "source": [
        "# Creating a K Nearest Neighbor Classifier from scratch, Training & Testing with the breast-cancer dataset"
      ]
    },
    {
      "cell_type": "code",
      "metadata": {
        "id": "yFq6Lmffc7L4",
        "outputId": "d14ff05d-ef8c-4f0b-db3b-595beb6a8351",
        "colab": {
          "base_uri": "https://localhost:8080/"
        }
      },
      "source": [
        "from google.colab import drive\n",
        "drive.mount('/content/gdrive')"
      ],
      "execution_count": 9,
      "outputs": [
        {
          "output_type": "stream",
          "text": [
            "Drive already mounted at /content/gdrive; to attempt to forcibly remount, call drive.mount(\"/content/gdrive\", force_remount=True).\n"
          ],
          "name": "stdout"
        }
      ]
    },
    {
      "cell_type": "code",
      "metadata": {
        "id": "0Mmzo10w69zm"
      },
      "source": [
        "import numpy as np\n",
        "from math import sqrt\n",
        "import warnings\n",
        "from collections import Counter\n",
        "import pandas as pd   # to load in the dataset\n",
        "import random     # used to shuffle the dataset"
      ],
      "execution_count": 10,
      "outputs": []
    },
    {
      "cell_type": "markdown",
      "metadata": {
        "id": "OCE4AcJBh8Si"
      },
      "source": [
        "## KNN Algortihm"
      ]
    },
    {
      "cell_type": "code",
      "metadata": {
        "id": "CB2X8kLtghl2"
      },
      "source": [
        "def k_nearest_neighbours(data, predict, k=3):\n",
        "  if len(data) >= k:\n",
        "    warnings.warn(\"k is set to a value less than the total voting groups\")\n",
        "    \n",
        "  distances = []\n",
        "\n",
        "  for group in data:\n",
        "    for features in data[group]:\n",
        "      euclidean_distance = np.linalg.norm(np.array(features)- np.array(predict))\n",
        "      distances.append([euclidean_distance, group])\n",
        "\n",
        "  # getting the groups of the top 3(k) distances (sorting is done in ascending order)\n",
        "  votes = [i[1] for i in sorted(distances)[:k]]\n",
        "\n",
        "  # print(Counter(votes).most_common(1))\n",
        "  vote_result = Counter(votes).most_common(1)[0][0]\n",
        "\n",
        "  # confidence of the classifier (how sure the classifier is - checks if at least k amount of points were used to give the result)\n",
        "  confidence = Counter(votes).most_common(1)[0][1] / k\n",
        "\n",
        "  # print(vote_result, confidence)\n",
        "\n",
        "  return vote_result, confidence"
      ],
      "execution_count": 30,
      "outputs": []
    },
    {
      "cell_type": "markdown",
      "metadata": {
        "id": "PmXSorkydQLi"
      },
      "source": [
        "## Feature Engineering\n"
      ]
    },
    {
      "cell_type": "code",
      "metadata": {
        "id": "2eHSmqa9cvMx",
        "outputId": "4295bcc1-1654-4f72-8b93-8aae7f841945",
        "colab": {
          "base_uri": "https://localhost:8080/"
        }
      },
      "source": [
        "# importing data file\n",
        "data_file_name = 'breast-cancer-wisconsin.data'\n",
        "data_file_path = F\"/content/gdrive/My Drive/Extra Learning/ML - Python/KNN-Classification/{data_file_name}\" \n",
        "\n",
        "df = pd.read_csv(data_file_path)\n",
        "print(df.head())\n",
        "\n",
        "df.replace('?', -99999, inplace=True)     # replacing ? with significantly irrelevant number to the dataset\n",
        "\n",
        "df.drop(['id'], 1, inplace=True)    # is has no effect on the result\n",
        "\n",
        "full_data = df.astype(float).values.tolist()    # converting all data to float and saving all values as a list"
      ],
      "execution_count": 21,
      "outputs": [
        {
          "output_type": "stream",
          "text": [
            "        id  clump_thickness  unif_cell_size  ...  norm_nucleoli  mitoses  class\n",
            "0  1000025                5               1  ...              1        1      2\n",
            "1  1002945                5               4  ...              2        1      2\n",
            "2  1015425                3               1  ...              1        1      2\n",
            "3  1016277                6               8  ...              7        1      2\n",
            "4  1017023                4               1  ...              1        1      2\n",
            "\n",
            "[5 rows x 11 columns]\n"
          ],
          "name": "stdout"
        }
      ]
    },
    {
      "cell_type": "code",
      "metadata": {
        "id": "PrwLn1fKeY1B",
        "outputId": "37bd5647-91e4-4b95-fb0c-6268f31fc7c5",
        "colab": {
          "base_uri": "https://localhost:8080/"
        }
      },
      "source": [
        "print(full_data[:5])\n",
        "random.shuffle(full_data)     # shuffle all data\n",
        "print(20*'~')\n",
        "print(full_data[:5])"
      ],
      "execution_count": 22,
      "outputs": [
        {
          "output_type": "stream",
          "text": [
            "[[5.0, 1.0, 1.0, 1.0, 2.0, 1.0, 3.0, 1.0, 1.0, 2.0], [5.0, 4.0, 4.0, 5.0, 7.0, 10.0, 3.0, 2.0, 1.0, 2.0], [3.0, 1.0, 1.0, 1.0, 2.0, 2.0, 3.0, 1.0, 1.0, 2.0], [6.0, 8.0, 8.0, 1.0, 3.0, 4.0, 3.0, 7.0, 1.0, 2.0], [4.0, 1.0, 1.0, 3.0, 2.0, 1.0, 3.0, 1.0, 1.0, 2.0]]\n",
            "~~~~~~~~~~~~~~~~~~~~\n",
            "[[1.0, 1.0, 1.0, 1.0, 2.0, 1.0, 1.0, 1.0, 1.0, 2.0], [8.0, 10.0, 10.0, 10.0, 7.0, 5.0, 4.0, 8.0, 7.0, 4.0], [10.0, 10.0, 10.0, 10.0, 3.0, 10.0, 10.0, 6.0, 1.0, 4.0], [6.0, 10.0, 10.0, 10.0, 4.0, 10.0, 7.0, 10.0, 1.0, 4.0], [3.0, 1.0, 1.0, 1.0, 2.0, 1.0, 2.0, 1.0, 1.0, 2.0]]\n"
          ],
          "name": "stdout"
        }
      ]
    },
    {
      "cell_type": "code",
      "metadata": {
        "id": "CyILtoMZe7xE"
      },
      "source": [
        "test_size = 0.2\n",
        "train_set = {2:[], 4:[]}\n",
        "test_set = {2:[], 4:[]}\n",
        "\n",
        "train_data = full_data[:-int(test_size*len(full_data))]     # first 80% of data\n",
        "test_data = full_data[-int(test_size*len(full_data)):]      # last 20% of data"
      ],
      "execution_count": 41,
      "outputs": []
    },
    {
      "cell_type": "markdown",
      "metadata": {
        "id": "SFMVVsJggR9J"
      },
      "source": [
        "```-``` counts from the end of the array\n",
        "[stackoverflow explanation](https://stackoverflow.com/questions/509211/understanding-slice-notation)"
      ]
    },
    {
      "cell_type": "markdown",
      "metadata": {
        "id": "Cv01_LhOhTi8"
      },
      "source": [
        "### Populating train_set and test_set with features, without the label to the respective labels (2 or 4)"
      ]
    },
    {
      "cell_type": "code",
      "metadata": {
        "id": "7GG0wjVdgo3m"
      },
      "source": [
        "for i in train_data:\n",
        "  # getting the last element in the array element (contains 2 or 4 - expected prediction/state of the patient)\n",
        "  train_set[i[-1]].append(i[:-1])\n",
        "\n",
        "for i in test_data:\n",
        "  test_set[i[-1]].append(i[:-1])\n",
        "\n",
        "  "
      ],
      "execution_count": 42,
      "outputs": []
    },
    {
      "cell_type": "markdown",
      "metadata": {
        "id": "pUJnhP8WnYd2"
      },
      "source": [
        "## Training KNN model & Testing to get the Accuracy"
      ]
    },
    {
      "cell_type": "code",
      "metadata": {
        "id": "8AA5F94YihRw",
        "outputId": "fd25d057-ef49-477d-b880-730dca4f0a54",
        "colab": {
          "base_uri": "https://localhost:8080/"
        }
      },
      "source": [
        "correct = 0\n",
        "total = 0\n",
        "\n",
        "for group in test_set:    # for each 2 & 4 groups in test dataset\n",
        "  for data in test_set[group]:     # for each list of features per group in test dataset\n",
        "    vote, confidence = k_nearest_neighbours(train_set, data, k=5)   # sklearn use k=5 as default\n",
        "    # print('vote:', vote)\n",
        "    if group == vote:\n",
        "      correct += 1\n",
        "    else:\n",
        "      print(confidence)   # check confidence, if group was incorrectly identified\n",
        "    total += 1\n",
        "\n",
        "print('Accuracy:', correct/total)"
      ],
      "execution_count": 43,
      "outputs": [
        {
          "output_type": "stream",
          "text": [
            "0.6\n",
            "Accuracy: 0.9928057553956835\n"
          ],
          "name": "stdout"
        }
      ]
    }
  ]
}